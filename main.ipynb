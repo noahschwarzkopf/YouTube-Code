{
 "cells": [
  {
   "cell_type": "code",
   "execution_count": 2,
   "metadata": {},
   "outputs": [],
   "source": [
    "import pandas as pd\n",
    "import numpy as np\n",
    "import matplotlib.pyplot as plt\n",
    "import seaborn as sns\n",
    "from scipy.interpolate import make_interp_spline\n",
    "import pyreadr\n",
    "\n",
    "from utils import helpers\n",
    "\n",
    "from importlib import reload"
   ]
  },
  {
   "cell_type": "code",
   "execution_count": 3,
   "metadata": {},
   "outputs": [],
   "source": [
    "hits_data = pyreadr.read_r('hit_data.rds')[None]\n",
    "\n",
    "outfield_dims = pyreadr.read_r('fences.rds')[None]\n",
    "\n",
    "# From Geom\n",
    "\n",
    "dims = pd.read_csv('https://raw.githubusercontent.com/bdilday/GeomMLBStadiums/master/inst/extdata/mlb_stadia_paths.csv')"
   ]
  },
  {
   "cell_type": "code",
   "execution_count": 4,
   "metadata": {},
   "outputs": [],
   "source": [
    "# Get Correct Spray Angles\n",
    "\n",
    "outfield_dims['spray_angle'] = outfield_dims.apply(lambda x: helpers.spray_angle(x.x, x.y),1) \n",
    "\n",
    "hits_data['spray_angle_true'] = hits_data.apply(lambda x: helpers.spray_angle(x.hc_x_, x.hc_y_),1)"
   ]
  },
  {
   "cell_type": "code",
   "execution_count": 116,
   "metadata": {},
   "outputs": [],
   "source": [
    "spray_angle_func = np.poly1d(np.polyfit(hits_data['test_angle'], hits_data['spray_angle_true'],1))\n",
    "\n",
    "outfield_dims['spray_angle'] = outfield_dims['spray_angle'].apply(lambda x: spray_angle_func(x),1)"
   ]
  },
  {
   "cell_type": "code",
   "execution_count": 5,
   "metadata": {},
   "outputs": [],
   "source": [
    "outfield_dims['team_abv'] = outfield_dims['team'].apply(lambda x: helpers.mapping[x])"
   ]
  },
  {
   "cell_type": "code",
   "execution_count": 6,
   "metadata": {},
   "outputs": [],
   "source": [
    "# For each ball hit, use the spline to interpolate the exact distance and height needed for a homerun at the designated park\n",
    "\n",
    "def home_run_needed_metrics(spray_angle, team):\n",
    "    temp = outfield_dims.query(f'team_abv == \"{team}\"').sort_values('spray_angle')\n",
    "\n",
    "    dist_func = make_interp_spline(temp['spray_angle'], temp['d_wall'])\n",
    "    height_func = make_interp_spline(temp['spray_angle'], temp['fence_height'],k=1)\n",
    "\n",
    "    dist = dist_func(spray_angle)\n",
    "    height = height_func(spray_angle)\n",
    "\n",
    "    return dist, height\n",
    "\n",
    "\n",
    "# Use physics to determine the height at the estimated distance. First step is if estimated dist >= dist at spray angle, next is if physics height \n",
    "# is >= height at spray angle\n",
    "\n",
    "def is_home_run(hit_distance, launch_angle, hit_height, spray_angle, team):\n",
    "\n",
    "    wall_distance, fence_height = home_run_needed_metrics(spray_angle, team)\n",
    "\n",
    "    #Calculating V: initial velocity using estimated hit distance and launch angle\n",
    "    velocity = np.sqrt(hit_distance/((np.sin(2*launch_angle*np.pi/180))/32.174))\n",
    "    print(velocity)\n",
    "\n",
    "    #Vox: Initial horizontal velocity using initial velocity and launch angle\n",
    "    vox = np.cos(launch_angle/180*np.pi)*velocity\n",
    "    print(vox)\n",
    "\n",
    "    #Voy: Initial vertical velocity using initial velocity and launch angle\n",
    "    voy = np.sin(launch_angle/180*np.pi)* velocity\n",
    "    print(voy)\n",
    "    \n",
    "    #Time it takes to reach distance of mega field dimension\n",
    "    time = wall_distance/vox\n",
    "    print(time)\n",
    "\n",
    "    #Calculating vertical height at distance of mega wall\n",
    "    height_at_time = hit_height+(voy*time)+0.5*((-32.174)*(time**2))\n",
    "    print(height_at_time)\n",
    "\n",
    "    print(wall_distance)\n",
    "\n",
    "    if height_at_time > fence_height:\n",
    "        return 1\n",
    "    else:\n",
    "        return 0"
   ]
  },
  {
   "attachments": {},
   "cell_type": "markdown",
   "metadata": {},
   "source": [
    "# Analysis"
   ]
  },
  {
   "cell_type": "code",
   "execution_count": 31,
   "metadata": {},
   "outputs": [],
   "source": [
    "def get_fence_height(launch_speed_fts, launch_angle_rads, plate_z, hit_distance_sc, spray_angle, team, g=-32.174):\n",
    "\n",
    "    wall_distance, fence_height = home_run_needed_metrics(spray_angle, team)\n",
    "\n",
    "    # calculate launch_speed_x and launch_speed_y\n",
    "    launch_speed_x = launch_speed_fts * np.cos(launch_angle_rads)\n",
    "    launch_speed_y = launch_speed_fts * np.sin(launch_angle_rads)\n",
    "    \n",
    "    # calculate total_time\n",
    "    total_time = -(launch_speed_y + np.sqrt(launch_speed_y**2 + (2*g * plate_z))) / g\n",
    "    \n",
    "    # calculate acceleration_x\n",
    "    acceleration_x = (-2*launch_speed_x / total_time) + (2*hit_distance_sc/total_time**2)\n",
    "    \n",
    "    # calculate time_wall\n",
    "    time_wall = (-launch_speed_x + np.sqrt(launch_speed_x**2 + 2*acceleration_x*wall_distance))/acceleration_x\n",
    "    \n",
    "    # calculate height_at_wall\n",
    "    height_at_wall = (launch_speed_y * time_wall) + (.5*g*(time_wall**2))\n",
    "    \n",
    "    # check if the ball clears the wall\n",
    "    return fence_height"
   ]
  },
  {
   "cell_type": "code",
   "execution_count": 7,
   "metadata": {},
   "outputs": [],
   "source": [
    "def is_home_run_dan(launch_speed_fts, launch_angle_rads, plate_z, hit_distance_sc, spray_angle, team, g=-32.174):\n",
    "\n",
    "    wall_distance, fence_height = home_run_needed_metrics(spray_angle, team)\n",
    "\n",
    "    # calculate launch_speed_x and launch_speed_y\n",
    "    launch_speed_x = launch_speed_fts * np.cos(launch_angle_rads)\n",
    "    launch_speed_y = launch_speed_fts * np.sin(launch_angle_rads)\n",
    "    \n",
    "    # calculate total_time\n",
    "    total_time = -(launch_speed_y + np.sqrt(launch_speed_y**2 + (2*g * plate_z))) / g\n",
    "    \n",
    "    # calculate acceleration_x\n",
    "    acceleration_x = (-2*launch_speed_x / total_time) + (2*hit_distance_sc/total_time**2)\n",
    "    \n",
    "    # calculate time_wall\n",
    "    time_wall = (-launch_speed_x + np.sqrt(launch_speed_x**2 + 2*acceleration_x*wall_distance))/acceleration_x\n",
    "    \n",
    "    # calculate height_at_wall\n",
    "    height_at_wall = (launch_speed_y * time_wall) + (.5*g*(time_wall**2))\n",
    "    \n",
    "    # check if the ball clears the wall\n",
    "    if height_at_wall > fence_height:\n",
    "        return 1\n",
    "    return 0"
   ]
  },
  {
   "cell_type": "code",
   "execution_count": 9,
   "metadata": {},
   "outputs": [
    {
     "name": "stderr",
     "output_type": "stream",
     "text": [
      "C:\\Users\\noahs\\AppData\\Local\\Temp\\ipykernel_27520\\2449840775.py:16: RuntimeWarning: invalid value encountered in sqrt\n",
      "  time_wall = (-launch_speed_x + np.sqrt(launch_speed_x**2 + 2*acceleration_x*wall_distance))/acceleration_x\n"
     ]
    }
   ],
   "source": [
    "hits_data['is_homer'] = hits_data[['launch_speed_fts','launch_angle_rads','plate_z','hit_distance_sc','spray_angle_true','home_team']].apply(lambda x: is_home_run_dan(x[0],x[1],x[2],x[3],x[4],x[5]),1)"
   ]
  },
  {
   "cell_type": "code",
   "execution_count": 32,
   "metadata": {},
   "outputs": [
    {
     "name": "stderr",
     "output_type": "stream",
     "text": [
      "C:\\Users\\noahs\\AppData\\Local\\Temp\\ipykernel_27520\\2304299858.py:16: RuntimeWarning: invalid value encountered in sqrt\n",
      "  time_wall = (-launch_speed_x + np.sqrt(launch_speed_x**2 + 2*acceleration_x*wall_distance))/acceleration_x\n"
     ]
    }
   ],
   "source": [
    "hits_data['fence_height'] = hits_data[['launch_speed_fts','launch_angle_rads','plate_z','hit_distance_sc','spray_angle_true','home_team']].apply(lambda x: get_fence_height(x[0],x[1],x[2],x[3],x[4],x[5]),1)"
   ]
  },
  {
   "cell_type": "code",
   "execution_count": 10,
   "metadata": {},
   "outputs": [],
   "source": [
    "def classifier(x):\n",
    "    if x[0] == 'Home Run' and x[1] == 1:\n",
    "        return 'Correct, Homer'\n",
    "    elif x[0] == 'Home Run' and x[1] == 0:\n",
    "        return 'Incorrect, Homer'\n",
    "    elif x[0] != 'Home Run' and x[1] == 1:\n",
    "        return 'Incorrect, Not Homer'\n",
    "    elif x[0] != 'Home Run' and x[1] == 0:\n",
    "        return 'Correct, Not Homer'"
   ]
  },
  {
   "cell_type": "code",
   "execution_count": 11,
   "metadata": {},
   "outputs": [],
   "source": [
    "hits_data['class'] = hits_data[['events','is_homer']].apply(lambda x: classifier(x),1)"
   ]
  },
  {
   "cell_type": "code",
   "execution_count": 33,
   "metadata": {},
   "outputs": [],
   "source": [
    "hits_data['height_diff'] = np.abs(hits_data['fence_height'] - hits_data['height_at_wall'])"
   ]
  },
  {
   "cell_type": "code",
   "execution_count": 45,
   "metadata": {},
   "outputs": [
    {
     "data": {
      "text/plain": [
       "ARI    18\n",
       "MIN    15\n",
       "COL     9\n",
       "BOS     8\n",
       "CLE     7\n",
       "PHI     6\n",
       "PIT     5\n",
       "SEA     5\n",
       "STL     5\n",
       "TB      5\n",
       "SD      5\n",
       "TOR     4\n",
       "CHC     3\n",
       "CWS     3\n",
       "CIN     3\n",
       "TEX     2\n",
       "DET     2\n",
       "ATL     2\n",
       "OAK     2\n",
       "MIL     2\n",
       "SF      1\n",
       "MIA     1\n",
       "BAL     1\n",
       "WSH     1\n",
       "Name: home_team, dtype: int64"
      ]
     },
     "execution_count": 45,
     "metadata": {},
     "output_type": "execute_result"
    }
   ],
   "source": [
    "hits_data[hits_data['class']=='Incorrect, Not Homer']['home_team'].value_counts()"
   ]
  },
  {
   "cell_type": "code",
   "execution_count": 47,
   "metadata": {},
   "outputs": [
    {
     "data": {
      "text/plain": [
       "NYY    33\n",
       "TOR    30\n",
       "LAD    19\n",
       "SF     15\n",
       "TEX    14\n",
       "LAA    14\n",
       "KC     12\n",
       "MIA    12\n",
       "CWS    12\n",
       "CHC    11\n",
       "TB     11\n",
       "NYM     9\n",
       "DET     9\n",
       "HOU     8\n",
       "CIN     7\n",
       "CLE     6\n",
       "OAK     5\n",
       "MIN     5\n",
       "BOS     5\n",
       "BAL     5\n",
       "SEA     5\n",
       "PHI     4\n",
       "WSH     4\n",
       "PIT     3\n",
       "ATL     3\n",
       "STL     2\n",
       "MIL     2\n",
       "SD      2\n",
       "COL     1\n",
       "ARI     1\n",
       "Name: home_team, dtype: int64"
      ]
     },
     "execution_count": 47,
     "metadata": {},
     "output_type": "execute_result"
    }
   ],
   "source": [
    "hits_data[hits_data['class']=='Incorrect, Homer']['home_team'].value_counts()"
   ]
  },
  {
   "attachments": {},
   "cell_type": "markdown",
   "metadata": {},
   "source": [
    "# Testing"
   ]
  },
  {
   "cell_type": "code",
   "execution_count": 68,
   "metadata": {},
   "outputs": [
    {
     "data": {
      "text/plain": [
       "player_name                                              Brett Gardner\n",
       "game_date                                                   2021-07-20\n",
       "game_type                                                            R\n",
       "player_team                                                        NYY\n",
       "events                                                        Home Run\n",
       "des                  Brett Gardner homers (4) on a fly ball to righ...\n",
       "home_team                                                          NYY\n",
       "away_team                                                          PHI\n",
       "bb_type                                                       fly_ball\n",
       "outs_when_up                                                       2.0\n",
       "inning                                                             5.0\n",
       "inning_topbot                                                      Bot\n",
       "plate_z                                                           3.16\n",
       "hc_x                                                            183.18\n",
       "hc_y                                                             64.75\n",
       "hit_distance_sc                                                  361.0\n",
       "launch_angle                                                      37.0\n",
       "launch_speed                                                      93.2\n",
       "hc_x_                                                       145.198139\n",
       "hc_y_                                                       335.043832\n",
       "launch_angle_rads                                             0.645772\n",
       "launch_speed_fts                                            136.693333\n",
       "launch_speed_x                                               109.16815\n",
       "launch_speed_y                                               82.264102\n",
       "spray_angle                                                       17.6\n",
       "index                                                            15678\n",
       "hit_direction                                             Right-Center\n",
       "stadium_observed                                        Yankee Stadium\n",
       "logo_html            <img src = 'https://a.espncdn.com/i/teamlogos/...\n",
       "headshot                                                           NaN\n",
       "spray_angle_true                                             23.430489\n",
       "is_homer                                                             0\n",
       "class                                                 Incorrect, Homer\n",
       "height_at_wall                                                -7.25063\n",
       "fence_height                                                       8.0\n",
       "height_diff                                                   15.25063\n",
       "Name: 424, dtype: object"
      ]
     },
     "execution_count": 68,
     "metadata": {},
     "output_type": "execute_result"
    }
   ],
   "source": [
    "hits_data.iloc[424,:]"
   ]
  },
  {
   "cell_type": "code",
   "execution_count": 67,
   "metadata": {},
   "outputs": [
    {
     "data": {
      "text/html": [
       "<div>\n",
       "<style scoped>\n",
       "    .dataframe tbody tr th:only-of-type {\n",
       "        vertical-align: middle;\n",
       "    }\n",
       "\n",
       "    .dataframe tbody tr th {\n",
       "        vertical-align: top;\n",
       "    }\n",
       "\n",
       "    .dataframe thead th {\n",
       "        text-align: right;\n",
       "    }\n",
       "</style>\n",
       "<table border=\"1\" class=\"dataframe\">\n",
       "  <thead>\n",
       "    <tr style=\"text-align: right;\">\n",
       "      <th></th>\n",
       "      <th>launch_speed_fts</th>\n",
       "      <th>launch_angle_rads</th>\n",
       "      <th>plate_z</th>\n",
       "      <th>hit_distance_sc</th>\n",
       "      <th>spray_angle_true</th>\n",
       "      <th>home_team</th>\n",
       "    </tr>\n",
       "  </thead>\n",
       "  <tbody>\n",
       "    <tr>\n",
       "      <th>392</th>\n",
       "      <td>148.133333</td>\n",
       "      <td>0.488692</td>\n",
       "      <td>2.28</td>\n",
       "      <td>359.0</td>\n",
       "      <td>25.584254</td>\n",
       "      <td>NYY</td>\n",
       "    </tr>\n",
       "    <tr>\n",
       "      <th>421</th>\n",
       "      <td>147.693333</td>\n",
       "      <td>0.488692</td>\n",
       "      <td>2.76</td>\n",
       "      <td>386.0</td>\n",
       "      <td>-25.096545</td>\n",
       "      <td>NYY</td>\n",
       "    </tr>\n",
       "    <tr>\n",
       "      <th>424</th>\n",
       "      <td>136.693333</td>\n",
       "      <td>0.645772</td>\n",
       "      <td>3.16</td>\n",
       "      <td>361.0</td>\n",
       "      <td>23.430489</td>\n",
       "      <td>NYY</td>\n",
       "    </tr>\n",
       "    <tr>\n",
       "      <th>538</th>\n",
       "      <td>151.653333</td>\n",
       "      <td>0.541052</td>\n",
       "      <td>2.70</td>\n",
       "      <td>396.0</td>\n",
       "      <td>14.821294</td>\n",
       "      <td>NYY</td>\n",
       "    </tr>\n",
       "    <tr>\n",
       "      <th>585</th>\n",
       "      <td>153.266667</td>\n",
       "      <td>0.366519</td>\n",
       "      <td>1.75</td>\n",
       "      <td>395.0</td>\n",
       "      <td>-24.426115</td>\n",
       "      <td>NYY</td>\n",
       "    </tr>\n",
       "  </tbody>\n",
       "</table>\n",
       "</div>"
      ],
      "text/plain": [
       "     launch_speed_fts  launch_angle_rads  plate_z  hit_distance_sc  \\\n",
       "392        148.133333           0.488692     2.28            359.0   \n",
       "421        147.693333           0.488692     2.76            386.0   \n",
       "424        136.693333           0.645772     3.16            361.0   \n",
       "538        151.653333           0.541052     2.70            396.0   \n",
       "585        153.266667           0.366519     1.75            395.0   \n",
       "\n",
       "     spray_angle_true home_team  \n",
       "392         25.584254       NYY  \n",
       "421        -25.096545       NYY  \n",
       "424         23.430489       NYY  \n",
       "538         14.821294       NYY  \n",
       "585        -24.426115       NYY  "
      ]
     },
     "execution_count": 67,
     "metadata": {},
     "output_type": "execute_result"
    }
   ],
   "source": [
    "hits_data[(hits_data['home_team']=='NYY') & (hits_data['class']=='Incorrect, Homer')][['launch_speed_fts','launch_angle_rads','plate_z','hit_distance_sc','spray_angle_true','home_team']].head()"
   ]
  },
  {
   "cell_type": "code",
   "execution_count": 64,
   "metadata": {},
   "outputs": [
    {
     "data": {
      "text/plain": [
       "392       0.746762\n",
       "421      -1.183389\n",
       "424      -7.250630\n",
       "538       7.872285\n",
       "585       4.341902\n",
       "865       7.102506\n",
       "895       4.639189\n",
       "1067      2.337660\n",
       "1171      5.086762\n",
       "2444      6.012224\n",
       "2976      1.575233\n",
       "3041    -13.102275\n",
       "3172      1.127643\n",
       "4051      1.606370\n",
       "4474     -0.294762\n",
       "4587    -12.188703\n",
       "4675      5.263716\n",
       "4679      5.835439\n",
       "4794     -4.470096\n",
       "7271      7.577862\n",
       "7409           NaN\n",
       "7972    -14.065975\n",
       "8325      3.025422\n",
       "8344      7.104175\n",
       "8884      1.950995\n",
       "10943     0.695614\n",
       "11147   -14.635553\n",
       "11518     0.192957\n",
       "12274    -2.083826\n",
       "12323     5.137936\n",
       "13277     2.978378\n",
       "15520     7.107050\n",
       "15567          NaN\n",
       "Name: height_at_wall, dtype: float64"
      ]
     },
     "execution_count": 64,
     "metadata": {},
     "output_type": "execute_result"
    }
   ],
   "source": [
    "hits_data[(hits_data['home_team']=='NYY') & (hits_data['class']=='Incorrect, Homer')]['height_at_wall']"
   ]
  },
  {
   "cell_type": "code",
   "execution_count": 61,
   "metadata": {},
   "outputs": [
    {
     "data": {
      "text/plain": [
       "<AxesSubplot: xlabel='x', ylabel='y'>"
      ]
     },
     "execution_count": 61,
     "metadata": {},
     "output_type": "execute_result"
    },
    {
     "data": {
      "image/png": "[encoded data removed]",
      "text/plain": [
       "<Figure size 640x480 with 1 Axes>"
      ]
     },
     "metadata": {},
     "output_type": "display_data"
    }
   ],
   "source": [
    "sns.scatterplot(temp,x='x',y='y')\n",
    "sns.scatterplot(hits_data[(hits_data['home_team']=='NYY') & (hits_data['class']=='Incorrect, Homer')], x='hc_x_',y='hc_y_')"
   ]
  },
  {
   "cell_type": "code",
   "execution_count": 48,
   "metadata": {},
   "outputs": [
    {
     "data": {
      "image/png": "[encoded data removed]",
      "text/plain": [
       "<Figure size 1600x800 with 1 Axes>"
      ]
     },
     "metadata": {},
     "output_type": "display_data"
    },
    {
     "data": {
      "image/png": "[encoded data removed]",
      "text/plain": [
       "<Figure size 640x480 with 1 Axes>"
      ]
     },
     "metadata": {},
     "output_type": "display_data"
    }
   ],
   "source": [
    "from scipy.interpolate import make_interp_spline\n",
    "\n",
    "temp = outfield_dims.query('team_abv == \"NYY\"').sort_values('spray_angle')\n",
    "\n",
    "x_hat = np.linspace(temp['spray_angle'].min(), temp['spray_angle'].max(),1000)\n",
    "\n",
    "dist_func = make_interp_spline(temp['spray_angle'], temp['d_wall'])\n",
    "height_func = make_interp_spline(temp['spray_angle'], temp['fence_height'],k=1)\n",
    "\n",
    "plt.figure(figsize=(16,8))\n",
    "\n",
    "sns.scatterplot(temp, x='spray_angle',y='d_wall')\n",
    "plt.plot(x_hat, dist_func(x_hat))\n",
    "plt.plot(-13.904309, 364.15,'o')\n",
    "plt.show()\n",
    "\n",
    "sns.scatterplot(temp, x='spray_angle',y='fence_height')\n",
    "plt.plot(x_hat, height_func(x_hat))\n",
    "plt.plot(-10.42, 21.5,'o')\n",
    "plt.show()"
   ]
  },
  {
   "cell_type": "code",
   "execution_count": 29,
   "metadata": {},
   "outputs": [
    {
     "data": {
      "text/plain": [
       "array(37.)"
      ]
     },
     "execution_count": 29,
     "metadata": {},
     "output_type": "execute_result"
    }
   ],
   "source": [
    "height_func(-13.904309)"
   ]
  },
  {
   "cell_type": "code",
   "execution_count": 380,
   "metadata": {},
   "outputs": [
    {
     "data": {
      "text/plain": [
       "array(8.)"
      ]
     },
     "execution_count": 380,
     "metadata": {},
     "output_type": "execute_result"
    }
   ],
   "source": [
    "def closest_point(row):\n",
    "    \"\"\"Finds the index of the closest point in a list of nodes to a given node.\n",
    "\n",
    "    Args:\n",
    "        node (numpy.ndarray): The coordinates of the reference node.\n",
    "        nodes (list): A list of nodes represented as numpy arrays.\n",
    "\n",
    "    Returns:\n",
    "        int: The index of the closest node in the list.\n",
    "    \"\"\"\n",
    "    node = np.asarray([row[0],row[1]])\n",
    "    \n",
    "    nodes = np.asarray(outfield_dims.query(f'team_abv == \"{row[2]}\"')[['x','y']])\n",
    "    dist_2 = np.sum((nodes - node) ** 2, axis=1)\n",
    "\n",
    "    return np.argmin(dist_2)\n",
    "\n",
    "def get_height_at_closest_point(row):\n",
    "    return outfield_dims.query(f'team_abv == \"{row[1]}\"').iloc[row[0],:]['fence_height']\n",
    "\n",
    "hits_data['closest_point'] = hits_data[['hc_x_','hc_y_','home_team']].apply(lambda row: closest_point(row),1)\n",
    "\n",
    "hits_data['fence_height'] = hits_data[['closest_point','home_team']].apply(lambda row: get_height_at_closest_point(row),axis=1)"
   ]
  },
  {
   "cell_type": "code",
   "execution_count": 322,
   "metadata": {},
   "outputs": [
    {
     "data": {
      "text/plain": [
       "25.0"
      ]
     },
     "execution_count": 322,
     "metadata": {},
     "output_type": "execute_result"
    }
   ],
   "source": [
    "outfield_dims.query('team_abv == \"SF\"').iloc[8,:]['fence_height']"
   ]
  },
  {
   "cell_type": "code",
   "execution_count": 317,
   "metadata": {},
   "outputs": [
    {
     "data": {
      "text/html": [
       "<div>\n",
       "<style scoped>\n",
       "    .dataframe tbody tr th:only-of-type {\n",
       "        vertical-align: middle;\n",
       "    }\n",
       "\n",
       "    .dataframe tbody tr th {\n",
       "        vertical-align: top;\n",
       "    }\n",
       "\n",
       "    .dataframe thead th {\n",
       "        text-align: right;\n",
       "    }\n",
       "</style>\n",
       "<table border=\"1\" class=\"dataframe\">\n",
       "  <thead>\n",
       "    <tr style=\"text-align: right;\">\n",
       "      <th></th>\n",
       "      <th>home_team</th>\n",
       "      <th>hc_x_</th>\n",
       "      <th>hc_y_</th>\n",
       "      <th>closest_point</th>\n",
       "    </tr>\n",
       "  </thead>\n",
       "  <tbody>\n",
       "    <tr>\n",
       "      <th>2</th>\n",
       "      <td>BOS</td>\n",
       "      <td>-99.801883</td>\n",
       "      <td>403.150693</td>\n",
       "      <td>31</td>\n",
       "    </tr>\n",
       "    <tr>\n",
       "      <th>3</th>\n",
       "      <td>SF</td>\n",
       "      <td>209.661321</td>\n",
       "      <td>343.179719</td>\n",
       "      <td>8</td>\n",
       "    </tr>\n",
       "    <tr>\n",
       "      <th>18</th>\n",
       "      <td>BAL</td>\n",
       "      <td>-132.944394</td>\n",
       "      <td>405.346884</td>\n",
       "      <td>30</td>\n",
       "    </tr>\n",
       "    <tr>\n",
       "      <th>29</th>\n",
       "      <td>CHC</td>\n",
       "      <td>-112.754416</td>\n",
       "      <td>395.189503</td>\n",
       "      <td>29</td>\n",
       "    </tr>\n",
       "    <tr>\n",
       "      <th>31</th>\n",
       "      <td>LAD</td>\n",
       "      <td>-32.019459</td>\n",
       "      <td>317.524221</td>\n",
       "      <td>24</td>\n",
       "    </tr>\n",
       "    <tr>\n",
       "      <th>...</th>\n",
       "      <td>...</td>\n",
       "      <td>...</td>\n",
       "      <td>...</td>\n",
       "      <td>...</td>\n",
       "    </tr>\n",
       "    <tr>\n",
       "      <th>15807</th>\n",
       "      <td>HOU</td>\n",
       "      <td>226.407273</td>\n",
       "      <td>323.414005</td>\n",
       "      <td>5</td>\n",
       "    </tr>\n",
       "    <tr>\n",
       "      <th>15827</th>\n",
       "      <td>HOU</td>\n",
       "      <td>191.742403</td>\n",
       "      <td>320.444156</td>\n",
       "      <td>6</td>\n",
       "    </tr>\n",
       "    <tr>\n",
       "      <th>15842</th>\n",
       "      <td>BAL</td>\n",
       "      <td>11.430173</td>\n",
       "      <td>458.280066</td>\n",
       "      <td>22</td>\n",
       "    </tr>\n",
       "    <tr>\n",
       "      <th>15844</th>\n",
       "      <td>MIA</td>\n",
       "      <td>-81.508615</td>\n",
       "      <td>407.068897</td>\n",
       "      <td>28</td>\n",
       "    </tr>\n",
       "    <tr>\n",
       "      <th>15851</th>\n",
       "      <td>ATL</td>\n",
       "      <td>-72.673940</td>\n",
       "      <td>406.220369</td>\n",
       "      <td>16</td>\n",
       "    </tr>\n",
       "  </tbody>\n",
       "</table>\n",
       "<p>3461 rows × 4 columns</p>\n",
       "</div>"
      ],
      "text/plain": [
       "      home_team       hc_x_       hc_y_  closest_point\n",
       "2           BOS  -99.801883  403.150693             31\n",
       "3            SF  209.661321  343.179719              8\n",
       "18          BAL -132.944394  405.346884             30\n",
       "29          CHC -112.754416  395.189503             29\n",
       "31          LAD  -32.019459  317.524221             24\n",
       "...         ...         ...         ...            ...\n",
       "15807       HOU  226.407273  323.414005              5\n",
       "15827       HOU  191.742403  320.444156              6\n",
       "15842       BAL   11.430173  458.280066             22\n",
       "15844       MIA  -81.508615  407.068897             28\n",
       "15851       ATL  -72.673940  406.220369             16\n",
       "\n",
       "[3461 rows x 4 columns]"
      ]
     },
     "execution_count": 317,
     "metadata": {},
     "output_type": "execute_result"
    }
   ],
   "source": [
    "hits_data.query('events == \"Home Run\"')[['home_team','hc_x_','hc_y_','closest_point']]"
   ]
  },
  {
   "cell_type": "code",
   "execution_count": 306,
   "metadata": {},
   "outputs": [
    {
     "data": {
      "text/plain": [
       "0        31\n",
       "1         1\n",
       "2        31\n",
       "3         8\n",
       "4         8\n",
       "         ..\n",
       "15848    32\n",
       "15849    24\n",
       "15850    15\n",
       "15851    16\n",
       "15852    32\n",
       "Name: closest_point, Length: 15853, dtype: int64"
      ]
     },
     "execution_count": 306,
     "metadata": {},
     "output_type": "execute_result"
    }
   ],
   "source": [
    "hits_data['closest_point']"
   ]
  },
  {
   "cell_type": "code",
   "execution_count": 207,
   "metadata": {},
   "outputs": [
    {
     "ename": "AttributeError",
     "evalue": "module 'utils.helpers' has no attribute 'closest_point'",
     "output_type": "error",
     "traceback": [
      "\u001b[1;31m---------------------------------------------------------------------------\u001b[0m",
      "\u001b[1;31mAttributeError\u001b[0m                            Traceback (most recent call last)",
      "Cell \u001b[1;32mIn[207], line 1\u001b[0m\n\u001b[1;32m----> 1\u001b[0m helpers\u001b[39m.\u001b[39;49mclosest_point([\u001b[39m238\u001b[39m,\u001b[39m279\u001b[39m],outfield_dims\u001b[39m.\u001b[39mquery(\u001b[39m'\u001b[39m\u001b[39mteam == \u001b[39m\u001b[39m\"\u001b[39m\u001b[39mcubs\u001b[39m\u001b[39m\"\u001b[39m\u001b[39m'\u001b[39m)[[\u001b[39m'\u001b[39m\u001b[39mx\u001b[39m\u001b[39m'\u001b[39m,\u001b[39m'\u001b[39m\u001b[39my\u001b[39m\u001b[39m'\u001b[39m]])\n",
      "\u001b[1;31mAttributeError\u001b[0m: module 'utils.helpers' has no attribute 'closest_point'"
     ]
    }
   ],
   "source": [
    "helpers.closest_point([238,279],outfield_dims.query('team == \"cubs\"')[['x','y']])"
   ]
  },
  {
   "cell_type": "code",
   "execution_count": 190,
   "metadata": {},
   "outputs": [
    {
     "data": {
      "text/plain": [
       "d_wall         362.102198\n",
       "spray_angle      39.80139\n",
       "Name: 301, dtype: object"
      ]
     },
     "execution_count": 190,
     "metadata": {},
     "output_type": "execute_result"
    }
   ],
   "source": [
    "outfield_dims.query('team == \"cubs\"').iloc[3,:][['d_wall','spray_angle']]"
   ]
  },
  {
   "cell_type": "code",
   "execution_count": 85,
   "metadata": {},
   "outputs": [],
   "source": [
    "import math"
   ]
  },
  {
   "cell_type": "code",
   "execution_count": 101,
   "metadata": {},
   "outputs": [],
   "source": [
    "hits_data['test_angle'] = hits_data[['hc_x_','hc_y_']].apply(lambda x: (math.atan(x[0]/x[1])*180/math.pi*.75),1)"
   ]
  },
  {
   "cell_type": "code",
   "execution_count": 102,
   "metadata": {},
   "outputs": [
    {
     "data": {
      "text/plain": [
       "(-45.0, 45.0)"
      ]
     },
     "execution_count": 102,
     "metadata": {},
     "output_type": "execute_result"
    },
    {
     "data": {
      "image/png": "[encoded data removed]",
      "text/plain": [
       "<Figure size 640x480 with 1 Axes>"
      ]
     },
     "metadata": {},
     "output_type": "display_data"
    }
   ],
   "source": [
    "sns.scatterplot(data=hits_data, x='spray_angle_true',y='test_angle')\n",
    "plt.xlim([-55,55])\n",
    "plt.ylim([-45,45])"
   ]
  },
  {
   "cell_type": "code",
   "execution_count": 90,
   "metadata": {},
   "outputs": [
    {
     "data": {
      "text/plain": [
       "39.6"
      ]
     },
     "execution_count": 90,
     "metadata": {},
     "output_type": "execute_result"
    }
   ],
   "source": [
    "hits_data['test_angle'].max()"
   ]
  },
  {
   "cell_type": "code",
   "execution_count": 192,
   "metadata": {},
   "outputs": [
    {
     "data": {
      "text/plain": [
       "[<matplotlib.lines.Line2D at 0x2e4059d1310>]"
      ]
     },
     "execution_count": 192,
     "metadata": {},
     "output_type": "execute_result"
    },
    {
     "data": {
      "image/png": "[encoded data removed]",
      "text/plain": [
       "<Figure size 640x480 with 1 Axes>"
      ]
     },
     "metadata": {},
     "output_type": "display_data"
    }
   ],
   "source": [
    "sns.scatterplot(data=outfield_dims.query('team == \"cubs\"'), x='x',y='y')\n",
    "plt.plot([0,0],[0,500])\n",
    "plt.plot([0,260.048918],[0,243.652360])\n",
    "plt.plot([0,-242.274875\t],[0,256.544719])\n",
    "plt.plot(238.7,279.14,'o')"
   ]
  },
  {
   "cell_type": "code",
   "execution_count": 193,
   "metadata": {},
   "outputs": [
    {
     "data": {
      "text/plain": [
       "367.2830374520446"
      ]
     },
     "execution_count": 193,
     "metadata": {},
     "output_type": "execute_result"
    }
   ],
   "source": [
    "math.dist([0,0],[238.7,279.14])"
   ]
  },
  {
   "cell_type": "code",
   "execution_count": 156,
   "metadata": {},
   "outputs": [
    {
     "data": {
      "text/plain": [
       "array(['CHC', 'BOS', 'SF', 'SEA', 'HOU', 'KC', 'BAL', 'CIN', 'MIA', 'PHI',\n",
       "       'CLE', 'MIN', 'MIL', 'NYM', 'LAD', 'STL', 'DET', 'WSH', 'CWS',\n",
       "       'TOR', 'ATL', 'ARI', 'COL', 'TB', 'NYY', 'OAK', 'LAA', 'PIT', 'SD',\n",
       "       'TEX'], dtype=object)"
      ]
     },
     "execution_count": 156,
     "metadata": {},
     "output_type": "execute_result"
    }
   ],
   "source": [
    "hits_data['home_team'].unique()"
   ]
  },
  {
   "cell_type": "code",
   "execution_count": 175,
   "metadata": {},
   "outputs": [],
   "source": [
    "hits_data['spray_angle_true'] = hits_data.apply(lambda x: helpers.spray_angle(x.hc_x_, x.hc_y_),1)"
   ]
  },
  {
   "cell_type": "code",
   "execution_count": 194,
   "metadata": {},
   "outputs": [
    {
     "data": {
      "text/plain": [
       "Index(['player_name', 'game_date', 'game_type', 'player_team', 'events', 'des',\n",
       "       'home_team', 'away_team', 'bb_type', 'outs_when_up', 'inning',\n",
       "       'inning_topbot', 'plate_z', 'hc_x', 'hc_y', 'hit_distance_sc',\n",
       "       'launch_angle', 'launch_speed', 'hc_x_', 'hc_y_', 'launch_angle_rads',\n",
       "       'launch_speed_fts', 'launch_speed_x', 'launch_speed_y', 'spray_angle',\n",
       "       'index', 'hit_direction', 'stadium_observed', 'logo_html', 'headshot',\n",
       "       'spray_angle_true'],\n",
       "      dtype='object')"
      ]
     },
     "execution_count": 194,
     "metadata": {},
     "output_type": "execute_result"
    }
   ],
   "source": [
    "hits_data.columns"
   ]
  },
  {
   "cell_type": "code",
   "execution_count": 202,
   "metadata": {},
   "outputs": [
    {
     "data": {
      "text/html": [
       "<div>\n",
       "<style scoped>\n",
       "    .dataframe tbody tr th:only-of-type {\n",
       "        vertical-align: middle;\n",
       "    }\n",
       "\n",
       "    .dataframe tbody tr th {\n",
       "        vertical-align: top;\n",
       "    }\n",
       "\n",
       "    .dataframe thead th {\n",
       "        text-align: right;\n",
       "    }\n",
       "</style>\n",
       "<table border=\"1\" class=\"dataframe\">\n",
       "  <thead>\n",
       "    <tr style=\"text-align: right;\">\n",
       "      <th></th>\n",
       "      <th>events</th>\n",
       "      <th>inning</th>\n",
       "      <th>hc_x_</th>\n",
       "      <th>hc_y_</th>\n",
       "      <th>hit_distance_sc</th>\n",
       "      <th>launch_angle</th>\n",
       "      <th>launch_speed_fts</th>\n",
       "      <th>launch_speed_x</th>\n",
       "      <th>launch_speed_y</th>\n",
       "      <th>spray_angle_true</th>\n",
       "    </tr>\n",
       "  </thead>\n",
       "  <tbody>\n",
       "    <tr>\n",
       "      <th>0</th>\n",
       "      <td>Double</td>\n",
       "      <td>6.0</td>\n",
       "      <td>-104.468788</td>\n",
       "      <td>315.802208</td>\n",
       "      <td>331.0</td>\n",
       "      <td>16.0</td>\n",
       "      <td>154.586667</td>\n",
       "      <td>148.598241</td>\n",
       "      <td>42.609860</td>\n",
       "      <td>-18.304447</td>\n",
       "    </tr>\n",
       "    <tr>\n",
       "      <th>17</th>\n",
       "      <td>In play, out(s)</td>\n",
       "      <td>4.0</td>\n",
       "      <td>153.059502</td>\n",
       "      <td>307.716234</td>\n",
       "      <td>339.0</td>\n",
       "      <td>34.0</td>\n",
       "      <td>140.946667</td>\n",
       "      <td>116.850082</td>\n",
       "      <td>78.816376</td>\n",
       "      <td>26.445968</td>\n",
       "    </tr>\n",
       "    <tr>\n",
       "      <th>29</th>\n",
       "      <td>Home Run</td>\n",
       "      <td>4.0</td>\n",
       "      <td>-112.754416</td>\n",
       "      <td>395.189503</td>\n",
       "      <td>408.0</td>\n",
       "      <td>27.0</td>\n",
       "      <td>147.840000</td>\n",
       "      <td>131.726405</td>\n",
       "      <td>67.117955</td>\n",
       "      <td>-15.924367</td>\n",
       "    </tr>\n",
       "    <tr>\n",
       "      <th>71</th>\n",
       "      <td>In play, out(s)</td>\n",
       "      <td>9.0</td>\n",
       "      <td>75.394221</td>\n",
       "      <td>364.168312</td>\n",
       "      <td>368.0</td>\n",
       "      <td>30.0</td>\n",
       "      <td>148.720000</td>\n",
       "      <td>128.795298</td>\n",
       "      <td>74.360000</td>\n",
       "      <td>11.696770</td>\n",
       "    </tr>\n",
       "    <tr>\n",
       "      <th>72</th>\n",
       "      <td>Home Run</td>\n",
       "      <td>9.0</td>\n",
       "      <td>-105.691667</td>\n",
       "      <td>397.186040</td>\n",
       "      <td>408.0</td>\n",
       "      <td>29.0</td>\n",
       "      <td>155.906667</td>\n",
       "      <td>136.359043</td>\n",
       "      <td>75.585052</td>\n",
       "      <td>-14.901163</td>\n",
       "    </tr>\n",
       "    <tr>\n",
       "      <th>...</th>\n",
       "      <td>...</td>\n",
       "      <td>...</td>\n",
       "      <td>...</td>\n",
       "      <td>...</td>\n",
       "      <td>...</td>\n",
       "      <td>...</td>\n",
       "      <td>...</td>\n",
       "      <td>...</td>\n",
       "      <td>...</td>\n",
       "      <td>...</td>\n",
       "    </tr>\n",
       "    <tr>\n",
       "      <th>15750</th>\n",
       "      <td>Triple</td>\n",
       "      <td>3.0</td>\n",
       "      <td>238.735888</td>\n",
       "      <td>279.140801</td>\n",
       "      <td>359.0</td>\n",
       "      <td>25.0</td>\n",
       "      <td>145.346667</td>\n",
       "      <td>131.728816</td>\n",
       "      <td>61.426156</td>\n",
       "      <td>40.538801</td>\n",
       "    </tr>\n",
       "    <tr>\n",
       "      <th>15810</th>\n",
       "      <td>Double</td>\n",
       "      <td>2.0</td>\n",
       "      <td>-202.923009</td>\n",
       "      <td>281.636472</td>\n",
       "      <td>343.0</td>\n",
       "      <td>26.0</td>\n",
       "      <td>160.013333</td>\n",
       "      <td>143.819031</td>\n",
       "      <td>70.145228</td>\n",
       "      <td>-35.773276</td>\n",
       "    </tr>\n",
       "    <tr>\n",
       "      <th>15819</th>\n",
       "      <td>In play, out(s)</td>\n",
       "      <td>9.0</td>\n",
       "      <td>66.484675</td>\n",
       "      <td>376.671624</td>\n",
       "      <td>379.0</td>\n",
       "      <td>28.0</td>\n",
       "      <td>152.386667</td>\n",
       "      <td>134.549441</td>\n",
       "      <td>71.541207</td>\n",
       "      <td>10.009929</td>\n",
       "    </tr>\n",
       "    <tr>\n",
       "      <th>15828</th>\n",
       "      <td>Double</td>\n",
       "      <td>9.0</td>\n",
       "      <td>-205.643290</td>\n",
       "      <td>293.440996</td>\n",
       "      <td>354.0</td>\n",
       "      <td>24.0</td>\n",
       "      <td>154.880000</td>\n",
       "      <td>141.489920</td>\n",
       "      <td>62.995371</td>\n",
       "      <td>-35.022751</td>\n",
       "    </tr>\n",
       "    <tr>\n",
       "      <th>15845</th>\n",
       "      <td>In play, out(s)</td>\n",
       "      <td>8.0</td>\n",
       "      <td>-143.226559</td>\n",
       "      <td>283.408399</td>\n",
       "      <td>316.0</td>\n",
       "      <td>47.0</td>\n",
       "      <td>145.933333</td>\n",
       "      <td>99.526294</td>\n",
       "      <td>106.728884</td>\n",
       "      <td>-26.810738</td>\n",
       "    </tr>\n",
       "  </tbody>\n",
       "</table>\n",
       "<p>463 rows × 10 columns</p>\n",
       "</div>"
      ],
      "text/plain": [
       "                events  inning       hc_x_       hc_y_  hit_distance_sc  \\\n",
       "0               Double     6.0 -104.468788  315.802208            331.0   \n",
       "17     In play, out(s)     4.0  153.059502  307.716234            339.0   \n",
       "29            Home Run     4.0 -112.754416  395.189503            408.0   \n",
       "71     In play, out(s)     9.0   75.394221  364.168312            368.0   \n",
       "72            Home Run     9.0 -105.691667  397.186040            408.0   \n",
       "...                ...     ...         ...         ...              ...   \n",
       "15750           Triple     3.0  238.735888  279.140801            359.0   \n",
       "15810           Double     2.0 -202.923009  281.636472            343.0   \n",
       "15819  In play, out(s)     9.0   66.484675  376.671624            379.0   \n",
       "15828           Double     9.0 -205.643290  293.440996            354.0   \n",
       "15845  In play, out(s)     8.0 -143.226559  283.408399            316.0   \n",
       "\n",
       "       launch_angle  launch_speed_fts  launch_speed_x  launch_speed_y  \\\n",
       "0              16.0        154.586667      148.598241       42.609860   \n",
       "17             34.0        140.946667      116.850082       78.816376   \n",
       "29             27.0        147.840000      131.726405       67.117955   \n",
       "71             30.0        148.720000      128.795298       74.360000   \n",
       "72             29.0        155.906667      136.359043       75.585052   \n",
       "...             ...               ...             ...             ...   \n",
       "15750          25.0        145.346667      131.728816       61.426156   \n",
       "15810          26.0        160.013333      143.819031       70.145228   \n",
       "15819          28.0        152.386667      134.549441       71.541207   \n",
       "15828          24.0        154.880000      141.489920       62.995371   \n",
       "15845          47.0        145.933333       99.526294      106.728884   \n",
       "\n",
       "       spray_angle_true  \n",
       "0            -18.304447  \n",
       "17            26.445968  \n",
       "29           -15.924367  \n",
       "71            11.696770  \n",
       "72           -14.901163  \n",
       "...                 ...  \n",
       "15750         40.538801  \n",
       "15810        -35.773276  \n",
       "15819         10.009929  \n",
       "15828        -35.022751  \n",
       "15845        -26.810738  \n",
       "\n",
       "[463 rows x 10 columns]"
      ]
     },
     "execution_count": 202,
     "metadata": {},
     "output_type": "execute_result"
    }
   ],
   "source": [
    "hits_data.query('home_team == \"CHC\"')[['events','inning','hc_x_','hc_y_','hit_distance_sc','launch_angle','launch_speed_fts','launch_speed_x','launch_speed_y','spray_angle_true']]"
   ]
  },
  {
   "cell_type": "code",
   "execution_count": 125,
   "metadata": {},
   "outputs": [
    {
     "data": {
      "text/plain": [
       "array(['angels', 'astros', 'athletics', 'blue_jays', 'braves', 'brewers',\n",
       "       'cardinals', 'cubs', 'diamondbacks', 'dodgers', 'giants',\n",
       "       'indians', 'mariners', 'marlins', 'mets', 'nationals', 'orioles',\n",
       "       'padres', 'phillies', 'pirates', 'rangers', 'rays', 'reds',\n",
       "       'rockies', 'royals', 'tigers', 'twins', 'white_sox', 'yankees',\n",
       "       'red_sox'], dtype=object)"
      ]
     },
     "execution_count": 125,
     "metadata": {},
     "output_type": "execute_result"
    }
   ],
   "source": [
    "outfield_dims['team'].unique()"
   ]
  },
  {
   "cell_type": "code",
   "execution_count": 126,
   "metadata": {},
   "outputs": [
    {
     "data": {
      "text/html": [
       "<div>\n",
       "<style scoped>\n",
       "    .dataframe tbody tr th:only-of-type {\n",
       "        vertical-align: middle;\n",
       "    }\n",
       "\n",
       "    .dataframe tbody tr th {\n",
       "        vertical-align: top;\n",
       "    }\n",
       "\n",
       "    .dataframe thead th {\n",
       "        text-align: right;\n",
       "    }\n",
       "</style>\n",
       "<table border=\"1\" class=\"dataframe\">\n",
       "  <thead>\n",
       "    <tr style=\"text-align: right;\">\n",
       "      <th></th>\n",
       "      <th>stadium</th>\n",
       "      <th>full_team_name</th>\n",
       "      <th>team</th>\n",
       "      <th>team_abbr</th>\n",
       "      <th>x</th>\n",
       "      <th>y</th>\n",
       "      <th>d_wall</th>\n",
       "      <th>segment</th>\n",
       "      <th>spray_angle_stadia</th>\n",
       "      <th>fence_height</th>\n",
       "      <th>orientation</th>\n",
       "    </tr>\n",
       "  </thead>\n",
       "  <tbody>\n",
       "    <tr>\n",
       "      <th>298</th>\n",
       "      <td>Wrigley Field</td>\n",
       "      <td>Chicago Cubs</td>\n",
       "      <td>cubs</td>\n",
       "      <td>CHC</td>\n",
       "      <td>260.048918</td>\n",
       "      <td>243.652360</td>\n",
       "      <td>356.359246</td>\n",
       "      <td>outfield_outer</td>\n",
       "      <td>35.1</td>\n",
       "      <td>16.0</td>\n",
       "      <td>NE</td>\n",
       "    </tr>\n",
       "    <tr>\n",
       "      <th>299</th>\n",
       "      <td>Wrigley Field</td>\n",
       "      <td>Chicago Cubs</td>\n",
       "      <td>cubs</td>\n",
       "      <td>CHC</td>\n",
       "      <td>250.666382</td>\n",
       "      <td>255.195296</td>\n",
       "      <td>357.712558</td>\n",
       "      <td>outfield_outer</td>\n",
       "      <td>33.4</td>\n",
       "      <td>16.0</td>\n",
       "      <td>NE</td>\n",
       "    </tr>\n",
       "    <tr>\n",
       "      <th>300</th>\n",
       "      <td>Wrigley Field</td>\n",
       "      <td>Chicago Cubs</td>\n",
       "      <td>cubs</td>\n",
       "      <td>CHC</td>\n",
       "      <td>241.226180</td>\n",
       "      <td>266.691178</td>\n",
       "      <td>359.602912</td>\n",
       "      <td>outfield_outer</td>\n",
       "      <td>31.6</td>\n",
       "      <td>16.0</td>\n",
       "      <td>NE</td>\n",
       "    </tr>\n",
       "    <tr>\n",
       "      <th>301</th>\n",
       "      <td>Wrigley Field</td>\n",
       "      <td>Chicago Cubs</td>\n",
       "      <td>cubs</td>\n",
       "      <td>CHC</td>\n",
       "      <td>231.791876</td>\n",
       "      <td>278.191531</td>\n",
       "      <td>362.102198</td>\n",
       "      <td>outfield_outer</td>\n",
       "      <td>29.9</td>\n",
       "      <td>16.0</td>\n",
       "      <td>NE</td>\n",
       "    </tr>\n",
       "    <tr>\n",
       "      <th>302</th>\n",
       "      <td>Wrigley Field</td>\n",
       "      <td>Chicago Cubs</td>\n",
       "      <td>cubs</td>\n",
       "      <td>CHC</td>\n",
       "      <td>222.284561</td>\n",
       "      <td>289.630579</td>\n",
       "      <td>365.097656</td>\n",
       "      <td>outfield_outer</td>\n",
       "      <td>28.1</td>\n",
       "      <td>16.0</td>\n",
       "      <td>NE</td>\n",
       "    </tr>\n",
       "    <tr>\n",
       "      <th>303</th>\n",
       "      <td>Wrigley Field</td>\n",
       "      <td>Chicago Cubs</td>\n",
       "      <td>cubs</td>\n",
       "      <td>CHC</td>\n",
       "      <td>211.213896</td>\n",
       "      <td>298.557122</td>\n",
       "      <td>365.715278</td>\n",
       "      <td>outfield_outer</td>\n",
       "      <td>26.5</td>\n",
       "      <td>16.0</td>\n",
       "      <td>NE</td>\n",
       "    </tr>\n",
       "    <tr>\n",
       "      <th>304</th>\n",
       "      <td>Wrigley Field</td>\n",
       "      <td>Chicago Cubs</td>\n",
       "      <td>cubs</td>\n",
       "      <td>CHC</td>\n",
       "      <td>196.669380</td>\n",
       "      <td>296.084714</td>\n",
       "      <td>355.450423</td>\n",
       "      <td>outfield_outer</td>\n",
       "      <td>25.2</td>\n",
       "      <td>11.0</td>\n",
       "      <td>NE</td>\n",
       "    </tr>\n",
       "    <tr>\n",
       "      <th>305</th>\n",
       "      <td>Wrigley Field</td>\n",
       "      <td>Chicago Cubs</td>\n",
       "      <td>cubs</td>\n",
       "      <td>CHC</td>\n",
       "      <td>184.406558</td>\n",
       "      <td>303.466200</td>\n",
       "      <td>355.102116</td>\n",
       "      <td>outfield_outer</td>\n",
       "      <td>23.5</td>\n",
       "      <td>11.0</td>\n",
       "      <td>NE</td>\n",
       "    </tr>\n",
       "    <tr>\n",
       "      <th>306</th>\n",
       "      <td>Wrigley Field</td>\n",
       "      <td>Chicago Cubs</td>\n",
       "      <td>cubs</td>\n",
       "      <td>CHC</td>\n",
       "      <td>174.047724</td>\n",
       "      <td>314.139418</td>\n",
       "      <td>359.132544</td>\n",
       "      <td>outfield_outer</td>\n",
       "      <td>21.7</td>\n",
       "      <td>11.0</td>\n",
       "      <td>NE</td>\n",
       "    </tr>\n",
       "    <tr>\n",
       "      <th>307</th>\n",
       "      <td>Wrigley Field</td>\n",
       "      <td>Chicago Cubs</td>\n",
       "      <td>cubs</td>\n",
       "      <td>CHC</td>\n",
       "      <td>163.535396</td>\n",
       "      <td>324.662288</td>\n",
       "      <td>363.523626</td>\n",
       "      <td>outfield_outer</td>\n",
       "      <td>20.1</td>\n",
       "      <td>11.0</td>\n",
       "      <td>NE</td>\n",
       "    </tr>\n",
       "    <tr>\n",
       "      <th>308</th>\n",
       "      <td>Wrigley Field</td>\n",
       "      <td>Chicago Cubs</td>\n",
       "      <td>cubs</td>\n",
       "      <td>CHC</td>\n",
       "      <td>153.044859</td>\n",
       "      <td>335.208216</td>\n",
       "      <td>368.493252</td>\n",
       "      <td>outfield_outer</td>\n",
       "      <td>18.4</td>\n",
       "      <td>11.0</td>\n",
       "      <td>NE</td>\n",
       "    </tr>\n",
       "    <tr>\n",
       "      <th>309</th>\n",
       "      <td>Wrigley Field</td>\n",
       "      <td>Chicago Cubs</td>\n",
       "      <td>cubs</td>\n",
       "      <td>CHC</td>\n",
       "      <td>142.611944</td>\n",
       "      <td>345.811057</td>\n",
       "      <td>374.063436</td>\n",
       "      <td>outfield_outer</td>\n",
       "      <td>16.8</td>\n",
       "      <td>11.0</td>\n",
       "      <td>NE</td>\n",
       "    </tr>\n",
       "    <tr>\n",
       "      <th>310</th>\n",
       "      <td>Wrigley Field</td>\n",
       "      <td>Chicago Cubs</td>\n",
       "      <td>cubs</td>\n",
       "      <td>CHC</td>\n",
       "      <td>132.086559</td>\n",
       "      <td>356.321703</td>\n",
       "      <td>380.015809</td>\n",
       "      <td>outfield_outer</td>\n",
       "      <td>15.3</td>\n",
       "      <td>11.0</td>\n",
       "      <td>NE</td>\n",
       "    </tr>\n",
       "    <tr>\n",
       "      <th>311</th>\n",
       "      <td>Wrigley Field</td>\n",
       "      <td>Chicago Cubs</td>\n",
       "      <td>cubs</td>\n",
       "      <td>CHC</td>\n",
       "      <td>121.553834</td>\n",
       "      <td>366.825412</td>\n",
       "      <td>386.440445</td>\n",
       "      <td>outfield_outer</td>\n",
       "      <td>13.8</td>\n",
       "      <td>11.0</td>\n",
       "      <td>NE</td>\n",
       "    </tr>\n",
       "    <tr>\n",
       "      <th>312</th>\n",
       "      <td>Wrigley Field</td>\n",
       "      <td>Chicago Cubs</td>\n",
       "      <td>cubs</td>\n",
       "      <td>CHC</td>\n",
       "      <td>110.003872</td>\n",
       "      <td>376.176517</td>\n",
       "      <td>391.930637</td>\n",
       "      <td>outfield_outer</td>\n",
       "      <td>12.2</td>\n",
       "      <td>11.0</td>\n",
       "      <td>NE</td>\n",
       "    </tr>\n",
       "    <tr>\n",
       "      <th>313</th>\n",
       "      <td>Wrigley Field</td>\n",
       "      <td>Chicago Cubs</td>\n",
       "      <td>cubs</td>\n",
       "      <td>CHC</td>\n",
       "      <td>97.558097</td>\n",
       "      <td>384.315527</td>\n",
       "      <td>396.504737</td>\n",
       "      <td>outfield_outer</td>\n",
       "      <td>10.7</td>\n",
       "      <td>11.0</td>\n",
       "      <td>NE</td>\n",
       "    </tr>\n",
       "    <tr>\n",
       "      <th>314</th>\n",
       "      <td>Wrigley Field</td>\n",
       "      <td>Chicago Cubs</td>\n",
       "      <td>cubs</td>\n",
       "      <td>CHC</td>\n",
       "      <td>84.395202</td>\n",
       "      <td>391.166132</td>\n",
       "      <td>400.166831</td>\n",
       "      <td>outfield_outer</td>\n",
       "      <td>9.1</td>\n",
       "      <td>11.0</td>\n",
       "      <td>NE</td>\n",
       "    </tr>\n",
       "    <tr>\n",
       "      <th>315</th>\n",
       "      <td>Wrigley Field</td>\n",
       "      <td>Chicago Cubs</td>\n",
       "      <td>cubs</td>\n",
       "      <td>CHC</td>\n",
       "      <td>70.581175</td>\n",
       "      <td>396.630835</td>\n",
       "      <td>402.861913</td>\n",
       "      <td>outfield_outer</td>\n",
       "      <td>7.6</td>\n",
       "      <td>11.0</td>\n",
       "      <td>NE</td>\n",
       "    </tr>\n",
       "    <tr>\n",
       "      <th>316</th>\n",
       "      <td>Wrigley Field</td>\n",
       "      <td>Chicago Cubs</td>\n",
       "      <td>cubs</td>\n",
       "      <td>CHC</td>\n",
       "      <td>56.282324</td>\n",
       "      <td>400.727815</td>\n",
       "      <td>404.660946</td>\n",
       "      <td>outfield_outer</td>\n",
       "      <td>6.0</td>\n",
       "      <td>11.0</td>\n",
       "      <td>NE</td>\n",
       "    </tr>\n",
       "    <tr>\n",
       "      <th>317</th>\n",
       "      <td>Wrigley Field</td>\n",
       "      <td>Chicago Cubs</td>\n",
       "      <td>cubs</td>\n",
       "      <td>CHC</td>\n",
       "      <td>41.579899</td>\n",
       "      <td>402.768341</td>\n",
       "      <td>404.908909</td>\n",
       "      <td>outfield_outer</td>\n",
       "      <td>4.4</td>\n",
       "      <td>11.0</td>\n",
       "      <td>NE</td>\n",
       "    </tr>\n",
       "    <tr>\n",
       "      <th>318</th>\n",
       "      <td>Wrigley Field</td>\n",
       "      <td>Chicago Cubs</td>\n",
       "      <td>cubs</td>\n",
       "      <td>CHC</td>\n",
       "      <td>26.736901</td>\n",
       "      <td>403.718497</td>\n",
       "      <td>404.602875</td>\n",
       "      <td>outfield_outer</td>\n",
       "      <td>2.8</td>\n",
       "      <td>11.0</td>\n",
       "      <td>NE</td>\n",
       "    </tr>\n",
       "    <tr>\n",
       "      <th>319</th>\n",
       "      <td>Wrigley Field</td>\n",
       "      <td>Chicago Cubs</td>\n",
       "      <td>cubs</td>\n",
       "      <td>CHC</td>\n",
       "      <td>11.931389</td>\n",
       "      <td>402.410069</td>\n",
       "      <td>402.586912</td>\n",
       "      <td>outfield_outer</td>\n",
       "      <td>1.3</td>\n",
       "      <td>11.0</td>\n",
       "      <td>NE</td>\n",
       "    </tr>\n",
       "    <tr>\n",
       "      <th>320</th>\n",
       "      <td>Wrigley Field</td>\n",
       "      <td>Chicago Cubs</td>\n",
       "      <td>cubs</td>\n",
       "      <td>CHC</td>\n",
       "      <td>-2.715501</td>\n",
       "      <td>400.013895</td>\n",
       "      <td>400.023112</td>\n",
       "      <td>outfield_outer</td>\n",
       "      <td>-0.3</td>\n",
       "      <td>11.0</td>\n",
       "      <td>NE</td>\n",
       "    </tr>\n",
       "    <tr>\n",
       "      <th>321</th>\n",
       "      <td>Wrigley Field</td>\n",
       "      <td>Chicago Cubs</td>\n",
       "      <td>cubs</td>\n",
       "      <td>CHC</td>\n",
       "      <td>-17.064061</td>\n",
       "      <td>396.092092</td>\n",
       "      <td>396.459491</td>\n",
       "      <td>outfield_outer</td>\n",
       "      <td>-1.9</td>\n",
       "      <td>11.0</td>\n",
       "      <td>NE</td>\n",
       "    </tr>\n",
       "    <tr>\n",
       "      <th>322</th>\n",
       "      <td>Wrigley Field</td>\n",
       "      <td>Chicago Cubs</td>\n",
       "      <td>cubs</td>\n",
       "      <td>CHC</td>\n",
       "      <td>-30.331203</td>\n",
       "      <td>389.398502</td>\n",
       "      <td>390.578001</td>\n",
       "      <td>outfield_outer</td>\n",
       "      <td>-3.3</td>\n",
       "      <td>11.0</td>\n",
       "      <td>NE</td>\n",
       "    </tr>\n",
       "    <tr>\n",
       "      <th>323</th>\n",
       "      <td>Wrigley Field</td>\n",
       "      <td>Chicago Cubs</td>\n",
       "      <td>cubs</td>\n",
       "      <td>CHC</td>\n",
       "      <td>-43.162826</td>\n",
       "      <td>381.878252</td>\n",
       "      <td>384.309809</td>\n",
       "      <td>outfield_outer</td>\n",
       "      <td>-4.8</td>\n",
       "      <td>11.0</td>\n",
       "      <td>NE</td>\n",
       "    </tr>\n",
       "    <tr>\n",
       "      <th>324</th>\n",
       "      <td>Wrigley Field</td>\n",
       "      <td>Chicago Cubs</td>\n",
       "      <td>cubs</td>\n",
       "      <td>CHC</td>\n",
       "      <td>-55.843845</td>\n",
       "      <td>374.102983</td>\n",
       "      <td>378.248036</td>\n",
       "      <td>outfield_outer</td>\n",
       "      <td>-6.4</td>\n",
       "      <td>11.0</td>\n",
       "      <td>NE</td>\n",
       "    </tr>\n",
       "    <tr>\n",
       "      <th>325</th>\n",
       "      <td>Wrigley Field</td>\n",
       "      <td>Chicago Cubs</td>\n",
       "      <td>cubs</td>\n",
       "      <td>CHC</td>\n",
       "      <td>-68.560305</td>\n",
       "      <td>366.387238</td>\n",
       "      <td>372.746729</td>\n",
       "      <td>outfield_outer</td>\n",
       "      <td>-7.9</td>\n",
       "      <td>11.0</td>\n",
       "      <td>NE</td>\n",
       "    </tr>\n",
       "    <tr>\n",
       "      <th>326</th>\n",
       "      <td>Wrigley Field</td>\n",
       "      <td>Chicago Cubs</td>\n",
       "      <td>cubs</td>\n",
       "      <td>CHC</td>\n",
       "      <td>-81.246200</td>\n",
       "      <td>358.620355</td>\n",
       "      <td>367.708449</td>\n",
       "      <td>outfield_outer</td>\n",
       "      <td>-9.6</td>\n",
       "      <td>11.0</td>\n",
       "      <td>NE</td>\n",
       "    </tr>\n",
       "    <tr>\n",
       "      <th>327</th>\n",
       "      <td>Wrigley Field</td>\n",
       "      <td>Chicago Cubs</td>\n",
       "      <td>cubs</td>\n",
       "      <td>CHC</td>\n",
       "      <td>-93.923169</td>\n",
       "      <td>350.838824</td>\n",
       "      <td>363.193395</td>\n",
       "      <td>outfield_outer</td>\n",
       "      <td>-11.2</td>\n",
       "      <td>11.0</td>\n",
       "      <td>NE</td>\n",
       "    </tr>\n",
       "    <tr>\n",
       "      <th>328</th>\n",
       "      <td>Wrigley Field</td>\n",
       "      <td>Chicago Cubs</td>\n",
       "      <td>cubs</td>\n",
       "      <td>CHC</td>\n",
       "      <td>-106.646055</td>\n",
       "      <td>343.131950</td>\n",
       "      <td>359.322858</td>\n",
       "      <td>outfield_outer</td>\n",
       "      <td>-12.9</td>\n",
       "      <td>11.0</td>\n",
       "      <td>NE</td>\n",
       "    </tr>\n",
       "    <tr>\n",
       "      <th>329</th>\n",
       "      <td>Wrigley Field</td>\n",
       "      <td>Chicago Cubs</td>\n",
       "      <td>cubs</td>\n",
       "      <td>CHC</td>\n",
       "      <td>-119.337334</td>\n",
       "      <td>335.373067</td>\n",
       "      <td>355.972602</td>\n",
       "      <td>outfield_outer</td>\n",
       "      <td>-14.7</td>\n",
       "      <td>11.0</td>\n",
       "      <td>NE</td>\n",
       "    </tr>\n",
       "    <tr>\n",
       "      <th>330</th>\n",
       "      <td>Wrigley Field</td>\n",
       "      <td>Chicago Cubs</td>\n",
       "      <td>cubs</td>\n",
       "      <td>CHC</td>\n",
       "      <td>-132.023204</td>\n",
       "      <td>327.604930</td>\n",
       "      <td>353.206903</td>\n",
       "      <td>outfield_outer</td>\n",
       "      <td>-16.5</td>\n",
       "      <td>11.0</td>\n",
       "      <td>NE</td>\n",
       "    </tr>\n",
       "    <tr>\n",
       "      <th>331</th>\n",
       "      <td>Wrigley Field</td>\n",
       "      <td>Chicago Cubs</td>\n",
       "      <td>cubs</td>\n",
       "      <td>CHC</td>\n",
       "      <td>-144.712474</td>\n",
       "      <td>319.843203</td>\n",
       "      <td>351.057509</td>\n",
       "      <td>outfield_outer</td>\n",
       "      <td>-18.3</td>\n",
       "      <td>11.0</td>\n",
       "      <td>NE</td>\n",
       "    </tr>\n",
       "    <tr>\n",
       "      <th>332</th>\n",
       "      <td>Wrigley Field</td>\n",
       "      <td>Chicago Cubs</td>\n",
       "      <td>cubs</td>\n",
       "      <td>CHC</td>\n",
       "      <td>-157.393581</td>\n",
       "      <td>312.067903</td>\n",
       "      <td>349.512683</td>\n",
       "      <td>outfield_outer</td>\n",
       "      <td>-20.1</td>\n",
       "      <td>11.0</td>\n",
       "      <td>NE</td>\n",
       "    </tr>\n",
       "    <tr>\n",
       "      <th>333</th>\n",
       "      <td>Wrigley Field</td>\n",
       "      <td>Chicago Cubs</td>\n",
       "      <td>cubs</td>\n",
       "      <td>CHC</td>\n",
       "      <td>-170.682093</td>\n",
       "      <td>305.767580</td>\n",
       "      <td>350.180225</td>\n",
       "      <td>outfield_outer</td>\n",
       "      <td>-21.9</td>\n",
       "      <td>11.0</td>\n",
       "      <td>NE</td>\n",
       "    </tr>\n",
       "    <tr>\n",
       "      <th>334</th>\n",
       "      <td>Wrigley Field</td>\n",
       "      <td>Chicago Cubs</td>\n",
       "      <td>cubs</td>\n",
       "      <td>CHC</td>\n",
       "      <td>-185.042931</td>\n",
       "      <td>303.945353</td>\n",
       "      <td>355.842189</td>\n",
       "      <td>outfield_outer</td>\n",
       "      <td>-23.5</td>\n",
       "      <td>16.0</td>\n",
       "      <td>NE</td>\n",
       "    </tr>\n",
       "    <tr>\n",
       "      <th>335</th>\n",
       "      <td>Wrigley Field</td>\n",
       "      <td>Chicago Cubs</td>\n",
       "      <td>cubs</td>\n",
       "      <td>CHC</td>\n",
       "      <td>-196.686414</td>\n",
       "      <td>294.766800</td>\n",
       "      <td>354.362825</td>\n",
       "      <td>outfield_outer</td>\n",
       "      <td>-25.3</td>\n",
       "      <td>16.0</td>\n",
       "      <td>NE</td>\n",
       "    </tr>\n",
       "    <tr>\n",
       "      <th>336</th>\n",
       "      <td>Wrigley Field</td>\n",
       "      <td>Chicago Cubs</td>\n",
       "      <td>cubs</td>\n",
       "      <td>CHC</td>\n",
       "      <td>-208.137100</td>\n",
       "      <td>285.271705</td>\n",
       "      <td>353.130285</td>\n",
       "      <td>outfield_outer</td>\n",
       "      <td>-27.1</td>\n",
       "      <td>16.0</td>\n",
       "      <td>NE</td>\n",
       "    </tr>\n",
       "    <tr>\n",
       "      <th>337</th>\n",
       "      <td>Wrigley Field</td>\n",
       "      <td>Chicago Cubs</td>\n",
       "      <td>cubs</td>\n",
       "      <td>CHC</td>\n",
       "      <td>-219.526228</td>\n",
       "      <td>275.708666</td>\n",
       "      <td>352.430182</td>\n",
       "      <td>outfield_outer</td>\n",
       "      <td>-28.9</td>\n",
       "      <td>16.0</td>\n",
       "      <td>NE</td>\n",
       "    </tr>\n",
       "    <tr>\n",
       "      <th>338</th>\n",
       "      <td>Wrigley Field</td>\n",
       "      <td>Chicago Cubs</td>\n",
       "      <td>cubs</td>\n",
       "      <td>CHC</td>\n",
       "      <td>-230.871650</td>\n",
       "      <td>266.093016</td>\n",
       "      <td>352.288535</td>\n",
       "      <td>outfield_outer</td>\n",
       "      <td>-30.7</td>\n",
       "      <td>16.0</td>\n",
       "      <td>NE</td>\n",
       "    </tr>\n",
       "    <tr>\n",
       "      <th>339</th>\n",
       "      <td>Wrigley Field</td>\n",
       "      <td>Chicago Cubs</td>\n",
       "      <td>cubs</td>\n",
       "      <td>CHC</td>\n",
       "      <td>-242.274875</td>\n",
       "      <td>256.544719</td>\n",
       "      <td>352.863016</td>\n",
       "      <td>outfield_outer</td>\n",
       "      <td>-32.5</td>\n",
       "      <td>16.0</td>\n",
       "      <td>NE</td>\n",
       "    </tr>\n",
       "  </tbody>\n",
       "</table>\n",
       "</div>"
      ],
      "text/plain": [
       "           stadium full_team_name  team team_abbr           x           y  \\\n",
       "298  Wrigley Field   Chicago Cubs  cubs       CHC  260.048918  243.652360   \n",
       "299  Wrigley Field   Chicago Cubs  cubs       CHC  250.666382  255.195296   \n",
       "300  Wrigley Field   Chicago Cubs  cubs       CHC  241.226180  266.691178   \n",
       "301  Wrigley Field   Chicago Cubs  cubs       CHC  231.791876  278.191531   \n",
       "302  Wrigley Field   Chicago Cubs  cubs       CHC  222.284561  289.630579   \n",
       "303  Wrigley Field   Chicago Cubs  cubs       CHC  211.213896  298.557122   \n",
       "304  Wrigley Field   Chicago Cubs  cubs       CHC  196.669380  296.084714   \n",
       "305  Wrigley Field   Chicago Cubs  cubs       CHC  184.406558  303.466200   \n",
       "306  Wrigley Field   Chicago Cubs  cubs       CHC  174.047724  314.139418   \n",
       "307  Wrigley Field   Chicago Cubs  cubs       CHC  163.535396  324.662288   \n",
       "308  Wrigley Field   Chicago Cubs  cubs       CHC  153.044859  335.208216   \n",
       "309  Wrigley Field   Chicago Cubs  cubs       CHC  142.611944  345.811057   \n",
       "310  Wrigley Field   Chicago Cubs  cubs       CHC  132.086559  356.321703   \n",
       "311  Wrigley Field   Chicago Cubs  cubs       CHC  121.553834  366.825412   \n",
       "312  Wrigley Field   Chicago Cubs  cubs       CHC  110.003872  376.176517   \n",
       "313  Wrigley Field   Chicago Cubs  cubs       CHC   97.558097  384.315527   \n",
       "314  Wrigley Field   Chicago Cubs  cubs       CHC   84.395202  391.166132   \n",
       "315  Wrigley Field   Chicago Cubs  cubs       CHC   70.581175  396.630835   \n",
       "316  Wrigley Field   Chicago Cubs  cubs       CHC   56.282324  400.727815   \n",
       "317  Wrigley Field   Chicago Cubs  cubs       CHC   41.579899  402.768341   \n",
       "318  Wrigley Field   Chicago Cubs  cubs       CHC   26.736901  403.718497   \n",
       "319  Wrigley Field   Chicago Cubs  cubs       CHC   11.931389  402.410069   \n",
       "320  Wrigley Field   Chicago Cubs  cubs       CHC   -2.715501  400.013895   \n",
       "321  Wrigley Field   Chicago Cubs  cubs       CHC  -17.064061  396.092092   \n",
       "322  Wrigley Field   Chicago Cubs  cubs       CHC  -30.331203  389.398502   \n",
       "323  Wrigley Field   Chicago Cubs  cubs       CHC  -43.162826  381.878252   \n",
       "324  Wrigley Field   Chicago Cubs  cubs       CHC  -55.843845  374.102983   \n",
       "325  Wrigley Field   Chicago Cubs  cubs       CHC  -68.560305  366.387238   \n",
       "326  Wrigley Field   Chicago Cubs  cubs       CHC  -81.246200  358.620355   \n",
       "327  Wrigley Field   Chicago Cubs  cubs       CHC  -93.923169  350.838824   \n",
       "328  Wrigley Field   Chicago Cubs  cubs       CHC -106.646055  343.131950   \n",
       "329  Wrigley Field   Chicago Cubs  cubs       CHC -119.337334  335.373067   \n",
       "330  Wrigley Field   Chicago Cubs  cubs       CHC -132.023204  327.604930   \n",
       "331  Wrigley Field   Chicago Cubs  cubs       CHC -144.712474  319.843203   \n",
       "332  Wrigley Field   Chicago Cubs  cubs       CHC -157.393581  312.067903   \n",
       "333  Wrigley Field   Chicago Cubs  cubs       CHC -170.682093  305.767580   \n",
       "334  Wrigley Field   Chicago Cubs  cubs       CHC -185.042931  303.945353   \n",
       "335  Wrigley Field   Chicago Cubs  cubs       CHC -196.686414  294.766800   \n",
       "336  Wrigley Field   Chicago Cubs  cubs       CHC -208.137100  285.271705   \n",
       "337  Wrigley Field   Chicago Cubs  cubs       CHC -219.526228  275.708666   \n",
       "338  Wrigley Field   Chicago Cubs  cubs       CHC -230.871650  266.093016   \n",
       "339  Wrigley Field   Chicago Cubs  cubs       CHC -242.274875  256.544719   \n",
       "\n",
       "         d_wall         segment  spray_angle_stadia  fence_height orientation  \n",
       "298  356.359246  outfield_outer                35.1          16.0          NE  \n",
       "299  357.712558  outfield_outer                33.4          16.0          NE  \n",
       "300  359.602912  outfield_outer                31.6          16.0          NE  \n",
       "301  362.102198  outfield_outer                29.9          16.0          NE  \n",
       "302  365.097656  outfield_outer                28.1          16.0          NE  \n",
       "303  365.715278  outfield_outer                26.5          16.0          NE  \n",
       "304  355.450423  outfield_outer                25.2          11.0          NE  \n",
       "305  355.102116  outfield_outer                23.5          11.0          NE  \n",
       "306  359.132544  outfield_outer                21.7          11.0          NE  \n",
       "307  363.523626  outfield_outer                20.1          11.0          NE  \n",
       "308  368.493252  outfield_outer                18.4          11.0          NE  \n",
       "309  374.063436  outfield_outer                16.8          11.0          NE  \n",
       "310  380.015809  outfield_outer                15.3          11.0          NE  \n",
       "311  386.440445  outfield_outer                13.8          11.0          NE  \n",
       "312  391.930637  outfield_outer                12.2          11.0          NE  \n",
       "313  396.504737  outfield_outer                10.7          11.0          NE  \n",
       "314  400.166831  outfield_outer                 9.1          11.0          NE  \n",
       "315  402.861913  outfield_outer                 7.6          11.0          NE  \n",
       "316  404.660946  outfield_outer                 6.0          11.0          NE  \n",
       "317  404.908909  outfield_outer                 4.4          11.0          NE  \n",
       "318  404.602875  outfield_outer                 2.8          11.0          NE  \n",
       "319  402.586912  outfield_outer                 1.3          11.0          NE  \n",
       "320  400.023112  outfield_outer                -0.3          11.0          NE  \n",
       "321  396.459491  outfield_outer                -1.9          11.0          NE  \n",
       "322  390.578001  outfield_outer                -3.3          11.0          NE  \n",
       "323  384.309809  outfield_outer                -4.8          11.0          NE  \n",
       "324  378.248036  outfield_outer                -6.4          11.0          NE  \n",
       "325  372.746729  outfield_outer                -7.9          11.0          NE  \n",
       "326  367.708449  outfield_outer                -9.6          11.0          NE  \n",
       "327  363.193395  outfield_outer               -11.2          11.0          NE  \n",
       "328  359.322858  outfield_outer               -12.9          11.0          NE  \n",
       "329  355.972602  outfield_outer               -14.7          11.0          NE  \n",
       "330  353.206903  outfield_outer               -16.5          11.0          NE  \n",
       "331  351.057509  outfield_outer               -18.3          11.0          NE  \n",
       "332  349.512683  outfield_outer               -20.1          11.0          NE  \n",
       "333  350.180225  outfield_outer               -21.9          11.0          NE  \n",
       "334  355.842189  outfield_outer               -23.5          16.0          NE  \n",
       "335  354.362825  outfield_outer               -25.3          16.0          NE  \n",
       "336  353.130285  outfield_outer               -27.1          16.0          NE  \n",
       "337  352.430182  outfield_outer               -28.9          16.0          NE  \n",
       "338  352.288535  outfield_outer               -30.7          16.0          NE  \n",
       "339  352.863016  outfield_outer               -32.5          16.0          NE  "
      ]
     },
     "execution_count": 126,
     "metadata": {},
     "output_type": "execute_result"
    }
   ],
   "source": [
    "outfield_dims.query('team == \"cubs\" and segment == \"outfield_outer\"')"
   ]
  },
  {
   "cell_type": "code",
   "execution_count": 74,
   "metadata": {},
   "outputs": [
    {
     "data": {
      "text/plain": [
       "<AxesSubplot: xlabel='x', ylabel='y'>"
      ]
     },
     "execution_count": 74,
     "metadata": {},
     "output_type": "execute_result"
    },
    {
     "data": {
      "image/png": "[encoded data removed]",
      "text/plain": [
       "<Figure size 640x480 with 1 Axes>"
      ]
     },
     "metadata": {},
     "output_type": "display_data"
    }
   ],
   "source": [
    "sns.scatterplot(data=outfield_dims.query('team == \"red_sox\" and segment == \"outfield_outer\"'), x='x',y='y')"
   ]
  },
  {
   "cell_type": "code",
   "execution_count": 69,
   "metadata": {},
   "outputs": [
    {
     "data": {
      "text/html": [
       "<div>\n",
       "<style scoped>\n",
       "    .dataframe tbody tr th:only-of-type {\n",
       "        vertical-align: middle;\n",
       "    }\n",
       "\n",
       "    .dataframe tbody tr th {\n",
       "        vertical-align: top;\n",
       "    }\n",
       "\n",
       "    .dataframe thead th {\n",
       "        text-align: right;\n",
       "    }\n",
       "</style>\n",
       "<table border=\"1\" class=\"dataframe\">\n",
       "  <thead>\n",
       "    <tr style=\"text-align: right;\">\n",
       "      <th></th>\n",
       "      <th>team</th>\n",
       "      <th>x</th>\n",
       "      <th>y</th>\n",
       "      <th>segment</th>\n",
       "      <th>spray_angle</th>\n",
       "    </tr>\n",
       "  </thead>\n",
       "  <tbody>\n",
       "    <tr>\n",
       "      <th>3029</th>\n",
       "      <td>angels</td>\n",
       "      <td>26.270000</td>\n",
       "      <td>104.810000</td>\n",
       "      <td>outfield_outer</td>\n",
       "      <td>-64.886743</td>\n",
       "    </tr>\n",
       "    <tr>\n",
       "      <th>3030</th>\n",
       "      <td>angels</td>\n",
       "      <td>25.932060</td>\n",
       "      <td>98.807795</td>\n",
       "      <td>outfield_outer</td>\n",
       "      <td>-58.195165</td>\n",
       "    </tr>\n",
       "    <tr>\n",
       "      <th>3031</th>\n",
       "      <td>angels</td>\n",
       "      <td>26.551758</td>\n",
       "      <td>92.865560</td>\n",
       "      <td>outfield_outer</td>\n",
       "      <td>-52.101109</td>\n",
       "    </tr>\n",
       "    <tr>\n",
       "      <th>3032</th>\n",
       "      <td>angels</td>\n",
       "      <td>29.069971</td>\n",
       "      <td>87.457350</td>\n",
       "      <td>outfield_outer</td>\n",
       "      <td>-46.118702</td>\n",
       "    </tr>\n",
       "    <tr>\n",
       "      <th>3033</th>\n",
       "      <td>angels</td>\n",
       "      <td>32.986155</td>\n",
       "      <td>82.913310</td>\n",
       "      <td>outfield_outer</td>\n",
       "      <td>-40.808629</td>\n",
       "    </tr>\n",
       "    <tr>\n",
       "      <th>...</th>\n",
       "      <td>...</td>\n",
       "      <td>...</td>\n",
       "      <td>...</td>\n",
       "      <td>...</td>\n",
       "      <td>...</td>\n",
       "    </tr>\n",
       "    <tr>\n",
       "      <th>3123</th>\n",
       "      <td>angels</td>\n",
       "      <td>36.234236</td>\n",
       "      <td>132.025786</td>\n",
       "      <td>outfield_outer</td>\n",
       "      <td>-113.153543</td>\n",
       "    </tr>\n",
       "    <tr>\n",
       "      <th>3124</th>\n",
       "      <td>angels</td>\n",
       "      <td>32.618710</td>\n",
       "      <td>127.222803</td>\n",
       "      <td>outfield_outer</td>\n",
       "      <td>-104.539903</td>\n",
       "    </tr>\n",
       "    <tr>\n",
       "      <th>3125</th>\n",
       "      <td>angels</td>\n",
       "      <td>29.003184</td>\n",
       "      <td>122.419820</td>\n",
       "      <td>outfield_outer</td>\n",
       "      <td>-97.791428</td>\n",
       "    </tr>\n",
       "    <tr>\n",
       "      <th>3126</th>\n",
       "      <td>angels</td>\n",
       "      <td>27.310342</td>\n",
       "      <td>116.780127</td>\n",
       "      <td>outfield_outer</td>\n",
       "      <td>-85.231652</td>\n",
       "    </tr>\n",
       "    <tr>\n",
       "      <th>3127</th>\n",
       "      <td>angels</td>\n",
       "      <td>26.598417</td>\n",
       "      <td>110.812734</td>\n",
       "      <td>outfield_outer</td>\n",
       "      <td>-73.774610</td>\n",
       "    </tr>\n",
       "  </tbody>\n",
       "</table>\n",
       "<p>99 rows × 5 columns</p>\n",
       "</div>"
      ],
      "text/plain": [
       "        team          x           y         segment  spray_angle\n",
       "3029  angels  26.270000  104.810000  outfield_outer   -64.886743\n",
       "3030  angels  25.932060   98.807795  outfield_outer   -58.195165\n",
       "3031  angels  26.551758   92.865560  outfield_outer   -52.101109\n",
       "3032  angels  29.069971   87.457350  outfield_outer   -46.118702\n",
       "3033  angels  32.986155   82.913310  outfield_outer   -40.808629\n",
       "...      ...        ...         ...             ...          ...\n",
       "3123  angels  36.234236  132.025786  outfield_outer  -113.153543\n",
       "3124  angels  32.618710  127.222803  outfield_outer  -104.539903\n",
       "3125  angels  29.003184  122.419820  outfield_outer   -97.791428\n",
       "3126  angels  27.310342  116.780127  outfield_outer   -85.231652\n",
       "3127  angels  26.598417  110.812734  outfield_outer   -73.774610\n",
       "\n",
       "[99 rows x 5 columns]"
      ]
     },
     "execution_count": 69,
     "metadata": {},
     "output_type": "execute_result"
    }
   ],
   "source": [
    "dims.query('team == \"angels\" and segment == \"outfield_outer\"')"
   ]
  },
  {
   "cell_type": "code",
   "execution_count": 4,
   "metadata": {},
   "outputs": [
    {
     "data": {
      "text/plain": [
       "array(['CHC', 'BOS', 'SF', 'SEA', 'HOU', 'KC', 'BAL', 'CIN', 'MIA', 'PHI',\n",
       "       'CLE', 'MIN', 'MIL', 'NYM', 'LAD', 'STL', 'DET', 'WSH', 'CWS',\n",
       "       'TOR', 'ATL', 'ARI', 'COL', 'TB', 'NYY', 'OAK', 'LAA', 'PIT', 'SD',\n",
       "       'TEX'], dtype=object)"
      ]
     },
     "execution_count": 4,
     "metadata": {},
     "output_type": "execute_result"
    }
   ],
   "source": [
    "hits_data['home_team'].unique()"
   ]
  },
  {
   "cell_type": "code",
   "execution_count": 5,
   "metadata": {},
   "outputs": [
    {
     "data": {
      "text/plain": [
       "count    109.000000\n",
       "mean      -5.919266\n",
       "std       20.925425\n",
       "min      -35.100000\n",
       "25%      -24.100000\n",
       "50%      -10.000000\n",
       "75%       13.100000\n",
       "max       36.400000\n",
       "Name: spray_angle, dtype: float64"
      ]
     },
     "execution_count": 5,
     "metadata": {},
     "output_type": "execute_result"
    }
   ],
   "source": [
    "hits_data.query('home_team == \"BOS\" and events == \"Home Run\"')['spray_angle'].describe()"
   ]
  },
  {
   "cell_type": "code",
   "execution_count": 7,
   "metadata": {},
   "outputs": [
    {
     "name": "stderr",
     "output_type": "stream",
     "text": [
      "c:\\Users\\noahs\\AppData\\Local\\Programs\\Python\\Python311\\Lib\\site-packages\\pandas\\core\\arraylike.py:402: RuntimeWarning: invalid value encountered in tan\n",
      "  result = getattr(ufunc, method)(*inputs, **kwargs)\n"
     ]
    }
   ],
   "source": [
    "# Spray Angle conversion\n",
    "\n",
    "dims['spray_angle'] =  np.tan((dims['x']-128)/(208-dims['y']))*180/np.pi*0.75"
   ]
  },
  {
   "cell_type": "code",
   "execution_count": 8,
   "metadata": {},
   "outputs": [
    {
     "data": {
      "text/plain": [
       "array(['infield_inner', 'infield_outer', 'outfield_outer',\n",
       "       'outfield_inner', 'foul_lines', 'home_plate'], dtype=object)"
      ]
     },
     "execution_count": 8,
     "metadata": {},
     "output_type": "execute_result"
    }
   ],
   "source": [
    "dims['segment'].unique()"
   ]
  },
  {
   "cell_type": "code",
   "execution_count": 9,
   "metadata": {},
   "outputs": [
    {
     "data": {
      "text/plain": [
       "112.68549910874"
      ]
     },
     "execution_count": 9,
     "metadata": {},
     "output_type": "execute_result"
    }
   ],
   "source": [
    "dims.query('team == \"red_sox\" and (segment == \"foul_lines\" or segment == \"foul_lines\")')['y'].min()"
   ]
  },
  {
   "cell_type": "code",
   "execution_count": 217,
   "metadata": {},
   "outputs": [
    {
     "data": {
      "text/plain": [
       "team              red_sox\n",
       "x              214.746905\n",
       "y                  204.53\n",
       "segment        foul_lines\n",
       "spray_angle       57.6048\n",
       "dtype: object"
      ]
     },
     "execution_count": 217,
     "metadata": {},
     "output_type": "execute_result"
    }
   ],
   "source": [
    "dims.query('team == \"red_sox\" and (segment == \"foul_lines\")').max()"
   ]
  },
  {
   "cell_type": "code",
   "execution_count": 46,
   "metadata": {},
   "outputs": [],
   "source": [
    "red_sox = dims.query('team == \"red_sox\" and (segment == \"foul_lines\" or segment == \"outfield_outer\")')"
   ]
  },
  {
   "cell_type": "code",
   "execution_count": 27,
   "metadata": {},
   "outputs": [],
   "source": [
    "def find_peak(df):\n",
    "    y_point = float(df['y'].max())\n",
    "    x_point = float(df[df['y']==y_point]['x'])\n",
    "\n",
    "    return x_point, y_point"
   ]
  },
  {
   "cell_type": "code",
   "execution_count": 53,
   "metadata": {},
   "outputs": [],
   "source": [
    "def get_team_foul_lines(df, team):\n",
    "    foul_lines_df = df.query(f\"team == '{team}' & segment == 'foul_lines'\")\n",
    "    return foul_lines_df\n",
    "\n",
    "def get_team_outfield(df, team):\n",
    "    outfield_df = df.query(f\"team == '{team}' & segment == 'outfield_outer'\")\n",
    "    return outfield_df\n",
    "\n",
    "def get_only_outfield(df, team):\n",
    "    foul_lines_df = get_team_foul_lines(df, team)\n",
    "    outfield_df = get_team_outfield(df, team)\n",
    "\n",
    "    only_outfield_df = outfield_df[outfield_df['y']<=foul_lines_df['y'].min()]\n",
    "\n",
    "    return only_outfield_df"
   ]
  },
  {
   "cell_type": "code",
   "execution_count": 49,
   "metadata": {},
   "outputs": [
    {
     "data": {
      "text/plain": [
       "[<matplotlib.lines.Line2D at 0x2e4509492d0>]"
      ]
     },
     "execution_count": 49,
     "metadata": {},
     "output_type": "execute_result"
    },
    {
     "data": {
      "image/png": "[encoded data removed]",
      "text/plain": [
       "<Figure size 1200x800 with 1 Axes>"
      ]
     },
     "metadata": {},
     "output_type": "display_data"
    }
   ],
   "source": [
    "foul_lines_df = get_team_foul_lines(dims, \"red_sox\")\n",
    "\n",
    "peak_x, peak_y = find_peak(foul_lines_df)\n",
    "\n",
    "x = np.array([peak_x] * 1000)\n",
    "y = np.linspace(30,peak_y, 1000)\n",
    "\n",
    "d = np.deg2rad(-45)\n",
    "\n",
    "x1 = (x - peak_x)*np.cos(d) - (y - peak_y)*np.sin(d) + peak_x\n",
    "y1 = (x - peak_x)*np.sin(d) + (y - peak_y)*np.cos(d) + peak_y\n",
    "\n",
    "plt.figure(figsize=(12,8))\n",
    "\n",
    "sns.scatterplot(data=foul_lines_df, x='x',y='y')\n",
    "plt.plot(x,y)\n",
    "plt.plot(x1,y1,'r')"
   ]
  },
  {
   "cell_type": "code",
   "execution_count": 61,
   "metadata": {},
   "outputs": [
    {
     "data": {
      "text/plain": [
       "array(['angels', 'astros', 'athletics', 'blue_jays', 'braves', 'brewers',\n",
       "       'cardinals', 'cubs', 'diamondbacks', 'dodgers', 'giants',\n",
       "       'indians', 'mariners', 'marlins', 'mets', 'nationals', 'orioles',\n",
       "       'padres', 'phillies', 'pirates', 'rangers', 'rays', 'red_sox',\n",
       "       'reds', 'rockies', 'royals', 'tigers', 'twins', 'white_sox',\n",
       "       'yankees', 'generic'], dtype=object)"
      ]
     },
     "execution_count": 61,
     "metadata": {},
     "output_type": "execute_result"
    }
   ],
   "source": [
    "dims['team'].unique()"
   ]
  },
  {
   "cell_type": "code",
   "execution_count": 72,
   "metadata": {},
   "outputs": [
    {
     "name": "stderr",
     "output_type": "stream",
     "text": [
      "C:\\Users\\noahs\\AppData\\Roaming\\Python\\Python311\\site-packages\\IPython\\core\\interactiveshell.py:3442: RankWarning: Polyfit may be poorly conditioned\n",
      "  exec(code_obj, self.user_global_ns, self.user_ns)\n"
     ]
    },
    {
     "data": {
      "text/plain": [
       "<AxesSubplot: xlabel='x', ylabel='y'>"
      ]
     },
     "execution_count": 72,
     "metadata": {},
     "output_type": "execute_result"
    },
    {
     "data": {
      "image/png": "[encoded data removed]",
      "text/plain": [
       "<Figure size 1200x800 with 1 Axes>"
      ]
     },
     "metadata": {},
     "output_type": "display_data"
    }
   ],
   "source": [
    "only_outfield_df = get_only_outfield(dims, \"red_sox\")\n",
    "\n",
    "x_hat = np.linspace(only_outfield_df['x'].min(), only_outfield_df['x'].max(), 1000)\n",
    "\n",
    "plt.figure(figsize=(12,8))\n",
    "\n",
    "# my_pwlf = pwlf.PiecewiseLinFit(only_outfield_df['x'], only_outfield_df['y'])\n",
    "# breaks = my_pwlf.fit(6)\n",
    "\n",
    "# y_hat = my_pwlf.predict(x_hat)\n",
    "\n",
    "model = np.polyfit(only_outfield_df['x'], only_outfield_df['y'], 20)\n",
    "func = np.poly1d(model)\n",
    "\n",
    "y_hat = func(x_hat)\n",
    "\n",
    "sns.scatterplot(data=only_outfield_df, x='x',y='y')\n",
    "#plt.plot(x_hat, y_hat,'r')"
   ]
  },
  {
   "cell_type": "code",
   "execution_count": null,
   "metadata": {},
   "outputs": [],
   "source": [
    "df['spray_angle'] = np.tan((df['hc_x']-128)/(208-df['hc_y']))*180/np.pi*0.75"
   ]
  },
  {
   "cell_type": "code",
   "execution_count": 118,
   "metadata": {},
   "outputs": [],
   "source": [
    "dist = np.polyfit(df['spray_angle_stadia'], df['d_wall'], 20)\n",
    "f_dist = np.poly1d(dist)\n",
    "\n",
    "height = np.polyfit(df['spray_angle_stadia'], df['fence_height'], 20)\n",
    "f_height = np.poly1d(height)\n",
    "\n",
    "x1 = np.linspace(min(df['spray_angle_stadia']), max(df['spray_angle_stadia']), 1000)\n",
    "y1 = f_dist(x1)\n",
    "y2 = f_height(x1)"
   ]
  },
  {
   "cell_type": "code",
   "execution_count": 119,
   "metadata": {},
   "outputs": [
    {
     "data": {
      "text/plain": [
       "[<matplotlib.lines.Line2D at 0x142ca189890>]"
      ]
     },
     "execution_count": 119,
     "metadata": {},
     "output_type": "execute_result"
    },
    {
     "data": {
      "image/png": "[encoded data removed]",
      "text/plain": [
       "<Figure size 800x600 with 1 Axes>"
      ]
     },
     "metadata": {},
     "output_type": "display_data"
    }
   ],
   "source": [
    "plt.figure(figsize=(8,6))\n",
    "\n",
    "sns.scatterplot(data=df, x='spray_angle_stadia',y='d_wall',hue='fence_height')\n",
    "\n",
    "plt.plot(x1, y1, c='black')"
   ]
  },
  {
   "cell_type": "code",
   "execution_count": 106,
   "metadata": {},
   "outputs": [
    {
     "ename": "NameError",
     "evalue": "name 'x' is not defined",
     "output_type": "error",
     "traceback": [
      "\u001b[1;31m---------------------------------------------------------------------------\u001b[0m",
      "\u001b[1;31mNameError\u001b[0m                                 Traceback (most recent call last)",
      "Cell \u001b[1;32mIn[106], line 6\u001b[0m\n\u001b[0;32m      3\u001b[0m \u001b[39mdef\u001b[39;00m \u001b[39mpiecewise_linear\u001b[39m(x, x0, y0, k1, k2):\n\u001b[0;32m      4\u001b[0m     \u001b[39mreturn\u001b[39;00m np\u001b[39m.\u001b[39mpiecewise(x, [x \u001b[39m<\u001b[39m x0], [\u001b[39mlambda\u001b[39;00m x:k1\u001b[39m*\u001b[39mx \u001b[39m+\u001b[39m y0\u001b[39m-\u001b[39mk1\u001b[39m*\u001b[39mx0, \u001b[39mlambda\u001b[39;00m x:k2\u001b[39m*\u001b[39mx \u001b[39m+\u001b[39m y0\u001b[39m-\u001b[39mk2\u001b[39m*\u001b[39mx0])\n\u001b[1;32m----> 6\u001b[0m p , e \u001b[39m=\u001b[39m optimize\u001b[39m.\u001b[39mcurve_fit(piecewise_linear, x, y)\n\u001b[0;32m      7\u001b[0m xd \u001b[39m=\u001b[39m np\u001b[39m.\u001b[39mlinspace(\u001b[39m0\u001b[39m, \u001b[39m15\u001b[39m, \u001b[39m100\u001b[39m)\n\u001b[0;32m      8\u001b[0m plt\u001b[39m.\u001b[39mplot(x, y, \u001b[39m\"\u001b[39m\u001b[39mo\u001b[39m\u001b[39m\"\u001b[39m)\n",
      "\u001b[1;31mNameError\u001b[0m: name 'x' is not defined"
     ]
    }
   ],
   "source": [
    "from scipy import optimize\n",
    "\n",
    "def piecewise_linear(x, x0, y0, k1, k2):\n",
    "    return np.piecewise(x, [x < x0], [lambda x:k1*x + y0-k1*x0, lambda x:k2*x + y0-k2*x0])\n",
    "\n",
    "p , e = optimize.curve_fit(piecewise_linear, x, y)\n",
    "xd = np.linspace(0, 15, 100)\n",
    "plt.plot(x, y, \"o\")\n",
    "plt.plot(xd, piecewise_linear(xd, *p))"
   ]
  },
  {
   "cell_type": "code",
   "execution_count": 105,
   "metadata": {},
   "outputs": [
    {
     "data": {
      "text/plain": [
       "[<matplotlib.lines.Line2D at 0x142c6df7090>]"
      ]
     },
     "execution_count": 105,
     "metadata": {},
     "output_type": "execute_result"
    },
    {
     "data": {
      "image/png": "[encoded data removed]",
      "text/plain": [
       "<Figure size 800x600 with 1 Axes>"
      ]
     },
     "metadata": {},
     "output_type": "display_data"
    }
   ],
   "source": [
    "plt.figure(figsize=(8,6))\n",
    "\n",
    "sns.scatterplot(data=angels, x='spray_angle_stadia',y='fence_height')\n",
    "\n",
    "plt.plot(x1, y2, c='black')"
   ]
  },
  {
   "cell_type": "code",
   "execution_count": 74,
   "metadata": {},
   "outputs": [
    {
     "data": {
      "text/plain": [
       "[<matplotlib.lines.Line2D at 0x142ca20c1d0>]"
      ]
     },
     "execution_count": 74,
     "metadata": {},
     "output_type": "execute_result"
    },
    {
     "data": {
      "image/png": "[encoded data removed]",
      "text/plain": [
       "<Figure size 800x600 with 1 Axes>"
      ]
     },
     "metadata": {},
     "output_type": "display_data"
    }
   ],
   "source": [
    "plt.figure(figsize=(8,6))\n",
    "\n",
    "sns.scatterplot(data=angels, x='spray_angle_stadia',y='d_wall',hue='fence_height')\n",
    "\n",
    "plt.plot(x1, y1, c='black')"
   ]
  },
  {
   "cell_type": "code",
   "execution_count": 38,
   "metadata": {},
   "outputs": [
    {
     "data": {
      "text/plain": [
       "<AxesSubplot: xlabel='spray_angle_stadia', ylabel='d_wall'>"
      ]
     },
     "execution_count": 38,
     "metadata": {},
     "output_type": "execute_result"
    },
    {
     "data": {
      "image/png": "[encoded data removed]",
      "text/plain": [
       "<Figure size 640x480 with 1 Axes>"
      ]
     },
     "metadata": {},
     "output_type": "display_data"
    }
   ],
   "source": [
    "sns.scatterplot(data=angels,x='spray_angle_stadia',y='d_wall',hue='fence_height')"
   ]
  },
  {
   "cell_type": "code",
   "execution_count": 31,
   "metadata": {},
   "outputs": [
    {
     "data": {
      "text/plain": [
       "<AxesSubplot: xlabel='x', ylabel='y'>"
      ]
     },
     "execution_count": 31,
     "metadata": {},
     "output_type": "execute_result"
    },
    {
     "data": {
      "image/png": "[encoded data removed]",
      "text/plain": [
       "<Figure size 640x480 with 1 Axes>"
      ]
     },
     "metadata": {},
     "output_type": "display_data"
    }
   ],
   "source": [
    "sns.scatterplot(data=angels,x='x',y='y',hue='fence_height')"
   ]
  },
  {
   "cell_type": "code",
   "execution_count": null,
   "metadata": {},
   "outputs": [],
   "source": []
  },
  {
   "cell_type": "code",
   "execution_count": 36,
   "metadata": {},
   "outputs": [],
   "source": [
    "def parametric_curve(x1, y1, x2, y2):\n",
    "    xslope = x2 - x1\n",
    "    yslope = y2 - y1\n",
    "    tt = np.linspace(0, 1, num=100)\n",
    "    ll = [pd.DataFrame({\"x\": x1 + xslope * s, \"y\": y1 + yslope * s}) for s in tt]\n",
    "    return pd.concat(ll)\n",
    "\n",
    "def geom_curve_gen_points(x1, x2, y, curvature):\n",
    "    if x2 < x1:\n",
    "        tmp = x1\n",
    "        x1 = x2\n",
    "        x2 = tmp\n",
    "    \n",
    "    k = curvature\n",
    "    xscale = 0.5 * (x2 - x1)\n",
    "\n",
    "    d1 = (1 - k**2) / (2 * k)\n",
    "    r = d1 + k\n",
    "\n",
    "    starting_theta = abs(np.arctan2(1, d1))\n",
    "    tt = np.linspace(-starting_theta, starting_theta, num=100)\n",
    "    x0 = 0.5 * (x1 + x2)\n",
    "    y0 = y + d1 * xscale\n",
    "    r = r * xscale\n",
    "    xx = x0 + r * np.sin(tt)\n",
    "    yy = y0 - r * np.cos(tt)\n",
    "    return pd.DataFrame({\"t\": tt, \"x\": xx, \"y\": yy})\n",
    "\n",
    "\n",
    "\n",
    "def generate_sample_data():\n",
    "    np.random.seed(101)\n",
    "    batted_ball_data = pd.DataFrame(\n",
    "        {\"hc_x\": np.random.normal(125, 10, 20), \"hc_y\": np.random.normal(100, 20, 20)}\n",
    "    )\n",
    "    batted_ball_data[\"team\"] = np.repeat([\"angels\", \"yankees\"], 10)\n",
    "    return batted_ball_data\n",
    "\n",
    "\n",
    "def generic_ballpark():\n",
    "    left_outfield_line = parametric_curve(125, 208, 30, 100)\n",
    "    outfield_curve = geom_curve_gen_points(30, 220, 100, 0.9)[:, [\"x\", \"y\"]]\n",
    "    right_outfield_line = parametric_curve(220, 100, 125, 208)\n",
    "\n",
    "    left_infield_line = parametric_curve(125, 208, 80, 155)\n",
    "    infield_curve = geom_curve_gen_points(80, 170, 155, 0.9)[:, [\"x\", \"y\"]]\n",
    "    right_infield_line = parametric_curve(170, 155, 125, 208)\n",
    "\n",
    "    outfield_path = pd.concat(\n",
    "        [left_outfield_line, outfield_curve, right_outfield_line], axis=0\n",
    "    )\n",
    "    outfield_path[\"segment\"] = \"outfield_outer\"\n",
    "    infield_path = pd.concat(\n",
    "        [left_infield_line, infield_curve, right_infield_line], axis=0\n",
    "    )\n",
    "    infield_path[\"segment\"] = \"infield_outer\"\n",
    "\n",
    "    path_df = pd.concat([outfield_path, infield_path], axis=0)\n",
    "    team_df = pd.DataFrame({\"team\": [\"generic\"] * len(path_df)})\n",
    "    return pd.concat([team_df, path_df], axis=1)\n",
    "\n"
   ]
  },
  {
   "cell_type": "code",
   "execution_count": null,
   "metadata": {},
   "outputs": [],
   "source": []
  }
 ],
 "metadata": {
  "kernelspec": {
   "display_name": "Python 3",
   "language": "python",
   "name": "python3"
  },
  "language_info": {
   "codemirror_mode": {
    "name": "ipython",
    "version": 3
   },
   "file_extension": ".py",
   "mimetype": "text/x-python",
   "name": "python",
   "nbconvert_exporter": "python",
   "pygments_lexer": "ipython3",
   "version": "3.11.2"
  },
  "orig_nbformat": 4,
  "vscode": {
   "interpreter": {
    "hash": "1b436bf0f5e9c3dda9be38478d7017573e2d4bcb8cb78f4d7a2d69614545a07b"
   }
  }
 },
 "nbformat": 4,
 "nbformat_minor": 2
}
